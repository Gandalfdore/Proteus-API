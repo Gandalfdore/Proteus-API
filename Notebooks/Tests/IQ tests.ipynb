{
 "cells": [
  {
   "cell_type": "markdown",
   "id": "ce556bc5-f4b2-4176-a30e-09934a18af1e",
   "metadata": {},
   "source": [
    "# IQ tests for digitizer"
   ]
  },
  {
   "cell_type": "markdown",
   "id": "b84e9850-764f-4d13-946d-c4f54cb85c7d",
   "metadata": {},
   "source": [
    "### Author\n",
    "\n",
    "Boris Nedyalkov, Quantum Computing Lab, IFAE, Barcelona"
   ]
  },
  {
   "cell_type": "markdown",
   "id": "f6da5fc5-ddaf-4929-b468-9dabc7260ebf",
   "metadata": {},
   "source": [
    "#### **In this notebook you will learn how to:**\n",
    "\n",
    "* Import all the libraries one needs\n",
    "* Set the working parameters of the machine\n",
    "* Initialize the machine\n",
    "* Create waveforms\n",
    "* Download the waveforms to the Proteus\n",
    "* Create a tasktable (sequences of pulses)\n",
    "* Readout the signal [==UNDER DEVELOPEMENT==]\n",
    "* Process the signal readout data [==UNDER DEVELOPEMENT==]"
   ]
  },
  {
   "cell_type": "markdown",
   "id": "abc6d9ec-e0c0-46bf-a073-b464dc8b29a6",
   "metadata": {},
   "source": [
    "### Import some generic libraries"
   ]
  },
  {
   "cell_type": "code",
   "execution_count": 1,
   "id": "37c49ddb-92d4-43f0-8152-d3301f3781f3",
   "metadata": {},
   "outputs": [],
   "source": [
    "import numpy as np\n",
    "import matplotlib.pyplot as plt\n",
    "import sys\n",
    "import time\n",
    "import os\n",
    "\n",
    "srcpath = os.path.realpath('../../SourceFiles')\n",
    "sys.path.append(srcpath)\n",
    "\n",
    "# These are the Tabor developers' libraries, they allow us to I/O interface with the Proteus\n",
    "from teproteus import TEProteusAdmin as TepAdmin\n",
    "from teproteus import TEProteusInst as TepInst"
   ]
  },
  {
   "cell_type": "markdown",
   "id": "efb28194-eef3-4121-ab43-c5f19b97af91",
   "metadata": {},
   "source": [
    "### Import our homemade libraries"
   ]
  },
  {
   "cell_type": "code",
   "execution_count": 2,
   "id": "19df99fe-7a50-42b5-abf2-1e9fab726695",
   "metadata": {},
   "outputs": [],
   "source": [
    "import initializers  # this library contains intialization functions for the Proteus \n",
    "\n",
    "import pulse_lib # this library contains all the types of pulses, one can add here a new type of pulse if needed\n",
    "import tasks # this library contains all the types of basic tasks, new ones can be added if need arises\n",
    "import readers # this library contains all the readout functions\n",
    "\n",
    "import helpers # this library contains auxillary functions"
   ]
  },
  {
   "cell_type": "markdown",
   "id": "d3182494-1074-4bb2-aa30-038374d3ed5e",
   "metadata": {},
   "source": [
    "### Set the parameters of the machine"
   ]
  },
  {
   "cell_type": "code",
   "execution_count": 3,
   "id": "026e92e3-aaff-4001-a104-31eb9a45d9bc",
   "metadata": {},
   "outputs": [],
   "source": [
    "SCLK = 2.25e9 # sampling clock rate of the generator (AWG) ## max value 9e9\n",
    "DUC_INTERP = 1  ### the DUC interpolator mode\n",
    "DIG_SCLK = 2.25e9 # sampling clock rate of the digitizer (DAC) ## max value 2.7e9\n",
    "\n",
    "SOURCE_NCO = 1e7   # The LO of the source/modulator\n",
    "DDC_NCO = 1e7 # The LO of the demodulator (make ideally the same as Source NCO)"
   ]
  },
  {
   "cell_type": "markdown",
   "id": "887d1996-6d77-4e2a-8758-b5c4ac845714",
   "metadata": {},
   "source": [
    "### Initialize the machine"
   ]
  },
  {
   "cell_type": "code",
   "execution_count": 4,
   "id": "e1983c6c-0306-4dc9-b9b4-f3f7c18e1d2e",
   "metadata": {},
   "outputs": [
    {
     "name": "stdout",
     "output_type": "stream",
     "text": [
      "\n",
      "=========CONNECTING=========\n",
      "process id 22284\n",
      "Connected to: Tabor Electronics,P9484M,000000220642,1.223.0\n",
      "Model: P9484M\n",
      "===CONNECTION ESTABLISHED===\n",
      "============================\n",
      "\n",
      "===SYSTEM'S INFORMATION===\n",
      "DAC waveform format: 16 bits-per-point\n",
      "Max DAC wave-point level: 65535\n",
      "Half DAC wave-point level: 32767.0\n",
      "Number of channels: 4\n",
      "Max segment number: 65536\n",
      "Available memory per DDR: 8,581,545,984 wave-bytes\n",
      "==========READY============\n",
      "===========================\n"
     ]
    }
   ],
   "source": [
    "# get the DAC mode, range, Serial port #, the data type of the system (8 or 16bit), and the instrument handle\n",
    "dac_mode, max_dac, sid, data_type, inst = initializers.connection_func() # Make sure the Model name is P9484M, that the name of our module"
   ]
  },
  {
   "cell_type": "markdown",
   "id": "2a9281e5-89d5-4072-ac27-686e1950a61e",
   "metadata": {},
   "source": [
    "### Initialize the channels"
   ]
  },
  {
   "cell_type": "code",
   "execution_count": 5,
   "id": "4c32681c-2405-470c-90b4-cd2acbca65fd",
   "metadata": {},
   "outputs": [
    {
     "name": "stdout",
     "output_type": "stream",
     "text": [
      "\n",
      "===INITIALIZATION OF CHANNEL 1===  -->  ===DONE===\n",
      "ERRORS: 0, no error\n"
     ]
    }
   ],
   "source": [
    "# initialize channel 1\n",
    "channel_numb = 1\n",
    "initializers.initialization_func(channel_numb, inst, SCLK)\n",
    "\n",
    "# # initialize all the channels\n",
    "# for i in range(0,4):  \n",
    "#     channel_numb = i + 1\n",
    "#     initializers.initialization_func(channel_numb, inst, SCLK) "
   ]
  },
  {
   "cell_type": "markdown",
   "id": "0070498e-93e1-4b70-9736-ae82398666e6",
   "metadata": {},
   "source": [
    "### Call the pulse library"
   ]
  },
  {
   "cell_type": "code",
   "execution_count": 6,
   "id": "cb98494b-4f42-42f9-bd57-5e04422b3c82",
   "metadata": {},
   "outputs": [],
   "source": [
    "pulse = pulse_lib.Pulse(SCLK, DUC_INTERP, show_plot = True)"
   ]
  },
  {
   "cell_type": "markdown",
   "id": "3fd4a407-110e-4f10-b8f9-4666aa00109a",
   "metadata": {},
   "source": [
    "##TEST IQ with simple square signals (I = 1, Q = 0)"
   ]
  },
  {
   "cell_type": "code",
   "execution_count": 7,
   "id": "d2091051-d88b-467d-af44-e9dceb32279b",
   "metadata": {},
   "outputs": [],
   "source": [
    "##### TEST IQ\n",
    "I = np.linspace (1,1,10000)\n",
    "Q = I*0\n",
    "\n",
    "inter_array = np.empty(len(I) + len(Q))\n",
    "for i in range(0, len(I)):\n",
    "    inter_array[0+i*2] = I[i]\n",
    "    inter_array[1+i*2] = Q[i]\n",
    "    \n",
    "inter_array = helpers.digital_conv_func(inter_array, max_dac, data_type)"
   ]
  },
  {
   "cell_type": "markdown",
   "id": "0c4646e8-2094-480b-8d31-a440e418f668",
   "metadata": {},
   "source": [
    "### Downloading some wave shapes onto the Proteus"
   ]
  },
  {
   "cell_type": "code",
   "execution_count": 8,
   "id": "f39d9481-4043-4157-9123-5320c406f28d",
   "metadata": {},
   "outputs": [],
   "source": [
    "wave1 = inter_array"
   ]
  },
  {
   "cell_type": "code",
   "execution_count": 9,
   "id": "248967d3-cc6f-4ccd-9d7a-5597b9d90c37",
   "metadata": {},
   "outputs": [
    {
     "name": "stdout",
     "output_type": "stream",
     "text": [
      "\n",
      "===INITIALIZATION OF CHANNEL 1===  -->  ===DONE===\n",
      "ERRORS: 0, no error\n"
     ]
    }
   ],
   "source": [
    "# initialize the channel\n",
    "channel_numb = 1\n",
    "initializers.initialization_func(channel_numb, inst, SCLK)"
   ]
  },
  {
   "cell_type": "code",
   "execution_count": 10,
   "id": "9c00bd74-57a3-49e8-81b0-067177dc1d1a",
   "metadata": {},
   "outputs": [],
   "source": [
    "initializers.initialization_func_IQ(channel_numb, inst, SCLK, SOURCE_NCO)"
   ]
  },
  {
   "cell_type": "markdown",
   "id": "c7205168-ffda-4c2e-bb1d-43c0bb93435e",
   "metadata": {},
   "source": [
    "@ When we download the signal onto the proteus we choose a segment number to assign to it, by this number we will refer to the signal later."
   ]
  },
  {
   "cell_type": "code",
   "execution_count": 11,
   "id": "a2ac794c-3f26-4fcb-bb98-1bc51e4e9b77",
   "metadata": {},
   "outputs": [
    {
     "name": "stdout",
     "output_type": "stream",
     "text": [
      "wave size: 20000\n",
      "0, no error\n"
     ]
    }
   ],
   "source": [
    "# download signal to an approprate 'channel' and 'segment of the channel'\n",
    "helpers.download_func (inst, wave1, channel = 1, segment = 1)"
   ]
  },
  {
   "cell_type": "markdown",
   "id": "5f70e146-f8a0-44b6-b7cb-e23551f6ac9d",
   "metadata": {},
   "source": [
    "### Let us now define a tasktable (as sequence of pulses and actions)"
   ]
  },
  {
   "cell_type": "code",
   "execution_count": 12,
   "id": "392a7913-6267-414f-8cfc-4d7dac21a0e8",
   "metadata": {},
   "outputs": [],
   "source": [
    "task = tasks.Task(inst)"
   ]
  },
  {
   "cell_type": "code",
   "execution_count": 13,
   "id": "a85ad8c0-9eca-494f-8fa5-9eed05542238",
   "metadata": {},
   "outputs": [
    {
     "name": "stdout",
     "output_type": "stream",
     "text": [
      "Downloading Task table to channel 1\n",
      "0, no error\n",
      "0, no error\n"
     ]
    }
   ],
   "source": [
    "channel = 1\n",
    "segment_number = 1\n",
    "\n",
    "task.solid_task(inst, channel, segment_number)\n",
    "helpers.start_task(inst, channel)"
   ]
  },
  {
   "cell_type": "code",
   "execution_count": 14,
   "id": "115fd7c2",
   "metadata": {},
   "outputs": [
    {
     "name": "stdout",
     "output_type": "stream",
     "text": [
      "0, no error\n",
      "0\n",
      "0\n",
      "\n",
      "0, no error\n",
      "0, no error\n",
      "0, no error\n"
     ]
    }
   ],
   "source": [
    "# def digitizer_setup(DIG_SCLK, DDC_NCO, time_delay):\n",
    "\n",
    "#     inst.send_scpi_cmd(':DIG:MODE DUAL')\n",
    "#     inst.send_scpi_cmd(':DIG:CHAN:RANGe HIGH')\n",
    "\n",
    "#     resp = inst.send_scpi_query(':SYST:ERR?')\n",
    "#     print(resp)\n",
    "\n",
    "\n",
    "#     # set the sampling rate for the Digitizer (or ADC)\n",
    "#     inst.send_scpi_cmd(':DIG:FREQ {0}'.format(DIG_SCLK))\n",
    "\n",
    "#     # Set DDC mode to complex\n",
    "#     resp = inst.send_scpi_cmd(':DIG:DDC:MODE COMP')\n",
    "#     print(resp)\n",
    "\n",
    "#     resp = inst.send_scpi_cmd(':DIG:DDC:DEC X16')\n",
    "#     print(resp)\n",
    "\n",
    "#     resp = inst.send_scpi_query(':DIG:DDC:CLKS DIG')  # !!! doesn't work, must be \"...CLKS AWG\"\n",
    "#     print(resp)\n",
    "\n",
    "#     resp = inst.send_scpi_query(':SYST:ERR?')\n",
    "#     print(resp)\n",
    "\n",
    "#     ###########################################\n",
    "\n",
    "#     #This is to be used only for mode COMPLEX (not mode REAL)\n",
    "#     # Set center frequency of channel 1 to 100MHz  \n",
    "#     # DDC_NCO = 1e9   # !!!!! use the frequency of you pulse here !!!!!\n",
    "#     inst.send_scpi_cmd(':DIG:DDC:CFR1 {0}'.format(DDC_NCO))\n",
    "\n",
    "#     ###########################################\n",
    "\n",
    "#     resp = inst.send_scpi_query(':SYST:ERR?')\n",
    "#     print(resp)\n",
    "\n",
    "#     # Enable capturing data from channel 1\n",
    "#     inst.send_scpi_cmd(':DIG:CHAN:SEL 1')\n",
    "#     inst.send_scpi_cmd(':DIG:CHAN:STATE ENAB')\n",
    "\n",
    "#     # # Select the internal-trigger as start-capturing trigger:\n",
    "#     # inst.send_scpi_cmd(':DIG:TRIG:SOURCE CPU') \n",
    "\n",
    "#     # Select the task trigger as start-capturing trigger:\n",
    "#     inst.send_scpi_cmd(':DIG:TRIG:SOURCE TASK1')\n",
    "\n",
    "#     # Set Trigger AWG delay to 0\n",
    "#     inst.send_scpi_cmd(':DIG:TRIG:AWG:TDEL {0}'.format(time_delay))  ##!!! Don't know if it should be like this\n",
    "\n",
    "#     resp = inst.send_scpi_query(':SYST:ERR?')\n",
    "#     print(resp)\n",
    "    \n",
    "#     return None\n",
    "    \n",
    "time_delay=0\n",
    "readers.digitizer_setup(inst, DIG_SCLK, DDC_NCO, time_delay)"
   ]
  },
  {
   "cell_type": "code",
   "execution_count": 15,
   "id": "51fb9f9a",
   "metadata": {},
   "outputs": [
    {
     "name": "stdout",
     "output_type": "stream",
     "text": [
      "0\n",
      "0, no error\n",
      "X16\n"
     ]
    },
    {
     "name": "stderr",
     "output_type": "stream",
     "text": [
      "C:\\Users\\QCTlab\\Documents\\GitHub\\Proteus-drivers\\SourceFiles\\teproteus.py:840: UserWarning: CMD: \":DIG:DATA:FORM?\", SYST:ERR: U16;0, no error\n",
      "  warnings.warn(wrnmsg)\n"
     ]
    }
   ],
   "source": [
    "# # Allocate four frames of 4800 samples\n",
    "# numframes, framelen = 1, 10*4800\n",
    "# cmd = ':DIG:ACQuire:FRAM:DEF {0},{1}'.format(numframes, framelen)\n",
    "# inst.send_scpi_cmd(cmd)\n",
    "\n",
    "# # Select which frames are filled with captured data (all frames in this example)\n",
    "# inst.send_scpi_cmd(':DIG:ACQ:FRAM:CAPT:ALL');\n",
    "\n",
    "# # clean memory\n",
    "# inst.send_scpi_cmd(':DIG:ACQ:ZERO:ALL')\n",
    "\n",
    "# resp = inst.send_scpi_cmd(':DIG:DATA:FORM?')\n",
    "# print (resp)\n",
    "\n",
    "\n",
    "# resp = inst.send_scpi_query(':SYST:ERR?')\n",
    "# print(resp)\n",
    "\n",
    "# resp = inst.send_scpi_query(':DIG:DDC:DEC?')  # try with this maybe\n",
    "# print(resp)\n",
    "\n",
    "numframes, framelen = 1, 10*4800\n",
    "readers.framer(inst, numframes, framelen)"
   ]
  },
  {
   "cell_type": "markdown",
   "id": "44a381d0-dc51-4615-b33e-d3e6d56e4c87",
   "metadata": {},
   "source": [
    "# DSP Setup"
   ]
  },
  {
   "cell_type": "code",
   "execution_count": 16,
   "id": "722a3ecb-b1f0-41ac-b268-684c584e98bb",
   "metadata": {},
   "outputs": [],
   "source": [
    "# # Select to store the IQ data\n",
    "# inst.send_scpi_cmd(':DSP:STOR1 DIRect1')\n",
    "# resp = inst.send_scpi_query(':SYST:ERR?')\n",
    "# print(resp)\n",
    "\n",
    "# # Set IQ PATH Input to AMPH\n",
    "# inst.send_scpi_cmd(':DSP:DEC:IQP:SEL 1')\n",
    "# resp = inst.send_scpi_query(':SYST:ERR?')\n",
    "# print(resp)\n",
    "\n",
    "# inst.send_scpi_cmd(':DSP:DEC:IQP:INP AMPH')\n",
    "# resp = inst.send_scpi_query(':SYST:ERR?')\n",
    "# print(resp)\n",
    "\n",
    "# # Set Decision frame size 50 points\n",
    "# inst.send_scpi_cmd(':DSP:DEC:FRAM {0}'.format(50))\n",
    "# resp = inst.send_scpi_query(':SYST:ERR?')\n",
    "# print(resp)"
   ]
  },
  {
   "cell_type": "code",
   "execution_count": 17,
   "id": "ed8bafbc",
   "metadata": {},
   "outputs": [
    {
     "name": "stdout",
     "output_type": "stream",
     "text": [
      "Response: 1,1,0,1 Time: 0.01\n",
      "0, no error\n"
     ]
    }
   ],
   "source": [
    "# # # Clean memory \n",
    "# # inst.send_scpi_cmd(':DIG:ACQ:ZERO:ALL')  ## !!!! try with and without this, when everything is running OK\n",
    "# # time.sleep(1)\n",
    "\n",
    "# # Stop the digitizer's capturing machine (to be on the safe side)\n",
    "# inst.send_scpi_cmd(':DIG:INIT OFF')\n",
    "# time.sleep(0.1)\n",
    "\n",
    "# # Start the digitizer's capturing machine ###################### START CAPTURE\n",
    "# inst.send_scpi_cmd(':DIG:INIT ON')\n",
    "\n",
    "# for i in range (1,100):\n",
    "#     delta_t = 1/100\n",
    "#     time.sleep(delta_t) # if we wait long enough time the machine captures a signal\n",
    "#     resp = inst.send_scpi_query(':DIG:ACQuire:FRAM:STAT?')\n",
    "#     if resp[6:] == '1':  # maybe 1 comes as a float, check it\n",
    "#         print('Response:',resp, 'Time:',delta_t*i)\n",
    "#         break\n",
    "\n",
    "        \n",
    "# # Stop the digitizer's capturing machine (to be on the safe side) ################# STOP CAPTURE\n",
    "# inst.send_scpi_cmd(':DIG:INIT OFF')\n",
    "\n",
    "# resp = inst.send_scpi_query(':SYST:ERR?')\n",
    "# print(resp)\n",
    "readers.capturer(inst)"
   ]
  },
  {
   "cell_type": "code",
   "execution_count": 18,
   "id": "a6d7093f",
   "metadata": {},
   "outputs": [],
   "source": [
    "# # Choose what to read \n",
    "# # (only the frame-data without the header in this example)\n",
    "# inst.send_scpi_cmd(':DIG:DATA:TYPE FRAM')\n",
    "\n",
    "# # Choose which frames to read (all in this example)\n",
    "# inst.send_scpi_cmd(':DIG:DATA:SEL ALL')\n",
    "\n",
    "# # Get the total data size (in bytes)\n",
    "# resp = inst.send_scpi_query(':DIG:DATA:SIZE?')\n",
    "# num_bytes = np.uint32(resp)\n",
    "# print('Total size in bytes: ' + resp)\n",
    "# print()\n",
    "\n",
    "# # Read the data that was captured by channel 1:\n",
    "# inst.send_scpi_cmd(':DIG:CHAN:SEL 1')\n",
    "\n",
    "# #wavlen = num_bytes // 2\n",
    "# wavlen = num_bytes // 4  # for the DUC mode !!!!!\n",
    "\n",
    "# #wav1 = np.zeros(wavlen, dtype=np.uint16)\n",
    "# wav1 = np.zeros(wavlen, dtype=np.uint32) # for the DUC mode !!!!!\n",
    "\n",
    "# rc = inst.read_binary_data(':DIG:DATA:READ?', wav1, num_bytes)\n",
    "\n",
    "# # # Read the data that was captured by channel 2:\n",
    "# # inst.send_scpi_cmd(':DIG:CHAN:SEL 2')\n",
    "\n",
    "# # wav2 = np.zeros(wavlen, dtype=np.uint16)\n",
    "# # rc = inst.read_binary_data(':DIG:DATA:READ?', wav2, num_bytes)\n",
    "\n",
    "# resp = inst.send_scpi_query(':SYST:ERR?')\n",
    "# print(resp)"
   ]
  },
  {
   "cell_type": "code",
   "execution_count": 19,
   "id": "8d02fbe6-5534-4949-b725-3f3329b07f87",
   "metadata": {},
   "outputs": [],
   "source": [
    "# # Plot the samples\n",
    "# totlen = int(numframes * framelen /2)\n",
    "# x = range(totlen)\n",
    "\n",
    "# wave_i = np.zeros(totlen, dtype=np.int32)\n",
    "# wave_q = np.zeros(totlen, dtype=np.int32)\n"
   ]
  },
  {
   "cell_type": "code",
   "execution_count": null,
   "id": "608cd987-8a0e-46ce-aa91-5787bd8a307b",
   "metadata": {},
   "outputs": [],
   "source": []
  },
  {
   "cell_type": "code",
   "execution_count": 20,
   "id": "bca6a924-7192-4404-9154-72fa425c8be0",
   "metadata": {},
   "outputs": [],
   "source": [
    "# # wave_i = wav1[::2]\n",
    "# # wave_q = wav1[1::2]\n",
    "\n",
    "# ####wave_i, wave_q = readers.IQ_data_extractor(inst, channel = 1)\n",
    "\n",
    "# plt.plot(x, wave_i, '-',x, wave_q, '-')"
   ]
  },
  {
   "cell_type": "code",
   "execution_count": null,
   "id": "4a086049-4eda-43d8-8ba5-721742641b72",
   "metadata": {},
   "outputs": [],
   "source": []
  },
  {
   "cell_type": "code",
   "execution_count": 21,
   "id": "1e642a55",
   "metadata": {},
   "outputs": [],
   "source": [
    "# wave_i = wave_i.astype('int32')\n",
    "# wave_q = wave_q.astype('int32')"
   ]
  },
  {
   "cell_type": "code",
   "execution_count": 22,
   "id": "43eef97d-787c-409f-992c-9cb16f990622",
   "metadata": {},
   "outputs": [],
   "source": [
    "# wave_i = wave_i - 16384\n",
    "# wave_q = wave_q - 16384"
   ]
  },
  {
   "cell_type": "code",
   "execution_count": 24,
   "id": "0abda63b-56f4-415e-8bd8-3e1de530f89c",
   "metadata": {},
   "outputs": [
    {
     "name": "stdout",
     "output_type": "stream",
     "text": [
      "Total size in bytes: 192000\n",
      "\n",
      "0, no error\n"
     ]
    }
   ],
   "source": [
    "wave_i, wave_q = readers.IQ_data_extractor(inst, channel, numframes, framelen)"
   ]
  },
  {
   "cell_type": "code",
   "execution_count": 25,
   "id": "0de369ef-c464-47ff-a1cf-a66ef5712644",
   "metadata": {},
   "outputs": [
    {
     "data": {
      "text/plain": [
       "array([16383, 10265, -3611, ..., 15849, 16178,  5074])"
      ]
     },
     "execution_count": 25,
     "metadata": {},
     "output_type": "execute_result"
    }
   ],
   "source": [
    "wave_i"
   ]
  },
  {
   "cell_type": "code",
   "execution_count": 30,
   "id": "fa3f0d24",
   "metadata": {},
   "outputs": [
    {
     "data": {
      "text/plain": [
       "[<matplotlib.lines.Line2D at 0x24817ad92e0>,\n",
       " <matplotlib.lines.Line2D at 0x24817ad9400>]"
      ]
     },
     "execution_count": 30,
     "metadata": {},
     "output_type": "execute_result"
    },
    {
     "data": {
      "image/png": "[encoded data removed]",
      "text/plain": [
       "<Figure size 432x288 with 1 Axes>"
      ]
     },
     "metadata": {
      "needs_background": "light"
     },
     "output_type": "display_data"
    }
   ],
   "source": [
    "plt.plot(wave_i[0:200], '-', wave_q[0:200], '-')"
   ]
  },
  {
   "cell_type": "code",
   "execution_count": 28,
   "id": "e7ac0aeb",
   "metadata": {},
   "outputs": [],
   "source": [
    "#########################################"
   ]
  },
  {
   "cell_type": "code",
   "execution_count": null,
   "id": "69b90594-2c70-4cc1-8c20-d13f42f7e6a4",
   "metadata": {},
   "outputs": [],
   "source": []
  },
  {
   "cell_type": "code",
   "execution_count": 29,
   "id": "a93cf1e1-e088-4e1e-8ee8-5e355b2fe57a",
   "metadata": {},
   "outputs": [
    {
     "data": {
      "text/plain": [
       "[<matplotlib.lines.Line2D at 0x24811b88730>]"
      ]
     },
     "execution_count": 29,
     "metadata": {},
     "output_type": "execute_result"
    },
    {
     "data": {
      "image/png": "[encoded data removed]",
      "text/plain": [
       "<Figure size 432x288 with 1 Axes>"
      ]
     },
     "metadata": {
      "needs_background": "light"
     },
     "output_type": "display_data"
    }
   ],
   "source": [
    "plt.plot (wave_i, wave_q)"
   ]
  },
  {
   "cell_type": "code",
   "execution_count": null,
   "id": "f407cf99-61f2-407f-b035-1bb314a53142",
   "metadata": {},
   "outputs": [],
   "source": []
  },
  {
   "cell_type": "code",
   "execution_count": null,
   "id": "f3ee71d6-e850-415d-bf27-2964235e72a6",
   "metadata": {},
   "outputs": [],
   "source": []
  },
  {
   "cell_type": "markdown",
   "id": "6b873f34-c54d-4e3e-8a1b-a3b4eb1371bb",
   "metadata": {},
   "source": [
    "## Test IQ with a sequence of pulses (gaussian + wait_time + readout)"
   ]
  },
  {
   "cell_type": "code",
   "execution_count": 1,
   "id": "0b736184-890f-4390-afb5-d69360ae2b6a",
   "metadata": {},
   "outputs": [
    {
     "ename": "NameError",
     "evalue": "name 'pulse' is not defined",
     "output_type": "error",
     "traceback": [
      "\u001b[1;31m---------------------------------------------------------------------------\u001b[0m",
      "\u001b[1;31mNameError\u001b[0m                                 Traceback (most recent call last)",
      "Input \u001b[1;32mIn [1]\u001b[0m, in \u001b[0;36m<cell line: 10>\u001b[1;34m()\u001b[0m\n\u001b[0;32m      8\u001b[0m beta \u001b[38;5;241m=\u001b[39m \u001b[38;5;241m1e-6\u001b[39m\n\u001b[0;32m      9\u001b[0m I_to_Q_ratio \u001b[38;5;241m=\u001b[39m \u001b[38;5;241m1.0\u001b[39m\n\u001b[1;32m---> 10\u001b[0m pulse1_i, pulse1_q  \u001b[38;5;241m=\u001b[39m \u001b[43mpulse\u001b[49m\u001b[38;5;241m.\u001b[39mgaussian_I_Q_with_IF(IF_frequency, amplitude, width, sigma, beta, I_to_Q_ratio)[\u001b[38;5;241m0\u001b[39m:\u001b[38;5;241m2\u001b[39m]\n\u001b[0;32m     12\u001b[0m \u001b[38;5;66;03m# Some time delay\u001b[39;00m\n\u001b[0;32m     13\u001b[0m time_delay \u001b[38;5;241m=\u001b[39m \u001b[38;5;241m3e-6\u001b[39m \u001b[38;5;66;03m# time delay in seconds\u001b[39;00m\n",
      "\u001b[1;31mNameError\u001b[0m: name 'pulse' is not defined"
     ]
    }
   ],
   "source": [
    "# Choose signals\n",
    "\n",
    "# Some pulse\n",
    "IF_frequency = 10e9 # in Hz\n",
    "amplitude = 1\n",
    "sigma = 1e-7 # in seconds\n",
    "width = 5*sigma # in seconds\n",
    "beta = 1e-6\n",
    "I_to_Q_ratio = 1.0\n",
    "pulse1_i, pulse1_q  = pulse.gaussian_I_Q_with_IF(IF_frequency, amplitude, width, sigma, beta, I_to_Q_ratio)[0:2]\n",
    "\n",
    "# Some time delay\n",
    "time_delay = 3e-6 # time delay in seconds\n",
    "time_delay_pulse1 = pulse.blank_signal_arbitrary(time_delay)\n",
    "\n",
    "# Signal compiler\n",
    "final_pulse_i = helpers.concatenator(pulse1_i, time_delay_pulse1)\n",
    "final_pulse_q = helpers.concatenator(pulse1_q, time_delay_pulse1)\n",
    "\n",
    "time_before_readout = len(final_pulse_i)/SCLK # time for the sequence to complete\n",
    "print (\"\\nTime before readout is {0} sec\".format(time_before_readout))\n",
    "\n",
    "# Readout pulse\n",
    "amplitude = 1\n",
    "width_slope = 100e-9 # in sec\n",
    "width_plateau = 10e-6 # in sec\n",
    "frequency = 1e6 # some dummy frequency\n",
    "# here we assume that the local oscillator (NCO) is set at the frequency of the readout resonator, thus we just use envelope (IF=0)\n",
    "readout_pulse = pulse.readout_pulse(amplitude, width_slope, width_plateau, frequency)[2] # this instance creates 3 arrays, only the last is the envelop\n",
    "\n",
    "readout_time = len(readout_pulse)/SCLK # time for the readout to complete\n",
    "print (\"\\nTime for readout is {0} sec\".format(readout_time))\n",
    "\n",
    "# Add the readout pulse\n",
    "final_pulse_i = helpers.concatenator(final_pulse_i, readout_pulse)\n",
    "final_pulse_q = helpers.concatenator(final_pulse_q, readout_pulse*0)\n",
    "\n",
    "# Add cooldown time (to allow for complete qubit relaxation)\n",
    "cooldown_time = 10e-6 # cooldown time in sec\n",
    "cooldown_space = pulse.blank_signal_arbitrary(cooldown_time)\n",
    "\n",
    "final_pulse_i = helpers.concatenator(final_pulse_i, cooldown_space)\n",
    "final_pulse_q = helpers.concatenator(final_pulse_q, cooldown_space)\n",
    "\n",
    "# Add remnant (to have the apprpriate format number of bits, to feed to the proteus memory)\n",
    "remnant_length = helpers.formatter_for_sequences(len(final_pulse_i))\n",
    "remnant = np.linspace(0, 0, remnant_length)\n",
    "\n",
    "final_pulse_i = helpers.concatenator(final_pulse_i, remnant)\n",
    "final_pulse_q = helpers.concatenator(final_pulse_q, remnant)"
   ]
  },
  {
   "cell_type": "code",
   "execution_count": 66,
   "id": "4da22f57-78a9-4e32-93c6-2033e28ab591",
   "metadata": {},
   "outputs": [
    {
     "data": {
      "text/plain": [
       "[<matplotlib.lines.Line2D at 0x27b60c8acd0>]"
      ]
     },
     "execution_count": 66,
     "metadata": {},
     "output_type": "execute_result"
    },
    {
     "data": {
      "image/png": "[encoded data removed]",
      "text/plain": [
       "<Figure size 432x288 with 1 Axes>"
      ]
     },
     "metadata": {
      "needs_background": "light"
     },
     "output_type": "display_data"
    }
   ],
   "source": [
    "plt.plot(final_pulse_i)"
   ]
  },
  {
   "cell_type": "code",
   "execution_count": 67,
   "id": "d679298e-3417-4b09-bfec-b9331e6648f1",
   "metadata": {},
   "outputs": [
    {
     "data": {
      "text/plain": [
       "[<matplotlib.lines.Line2D at 0x27b65070160>]"
      ]
     },
     "execution_count": 67,
     "metadata": {},
     "output_type": "execute_result"
    },
    {
     "data": {
      "image/png": "[encoded data removed]",
      "text/plain": [
       "<Figure size 432x288 with 1 Axes>"
      ]
     },
     "metadata": {
      "needs_background": "light"
     },
     "output_type": "display_data"
    }
   ],
   "source": [
    "plt.plot(final_pulse_q)"
   ]
  },
  {
   "cell_type": "code",
   "execution_count": null,
   "id": "05c501f8-700b-4cd5-adc2-db15b78711fc",
   "metadata": {},
   "outputs": [],
   "source": []
  },
  {
   "cell_type": "markdown",
   "id": "6d50d4e4-72a9-4f84-a97e-4ed8ef56831b",
   "metadata": {},
   "source": [
    "### Sequence to close the instrument"
   ]
  },
  {
   "cell_type": "code",
   "execution_count": null,
   "id": "77f444e4-9429-4da7-8db5-9d6c52d52494",
   "metadata": {},
   "outputs": [],
   "source": [
    "admin = TepAdmin()  ### decalring a shortcut to send SCPY commands to the machine\n",
    "inst = admin.open_instrument(slot_id=sid)  ### decalring a shortcut to send SCPY commands to the machine\n",
    "\n",
    "inst.close_instrument()\n",
    "admin.close_inst_admin()"
   ]
  }
 ],
 "metadata": {
  "kernelspec": {
   "display_name": "Python 3 (ipykernel)",
   "language": "python",
   "name": "python3"
  },
  "language_info": {
   "codemirror_mode": {
    "name": "ipython",
    "version": 3
   },
   "file_extension": ".py",
   "mimetype": "text/x-python",
   "name": "python",
   "nbconvert_exporter": "python",
   "pygments_lexer": "ipython3",
   "version": "3.8.13"
  }
 },
 "nbformat": 4,
 "nbformat_minor": 5
}
