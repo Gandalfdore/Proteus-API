{
 "cells": [
  {
   "cell_type": "markdown",
   "id": "ce556bc5-f4b2-4176-a30e-09934a18af1e",
   "metadata": {},
   "source": [
    "# Example notebook for Proteus operations"
   ]
  },
  {
   "cell_type": "markdown",
   "id": "b84e9850-764f-4d13-946d-c4f54cb85c7d",
   "metadata": {},
   "source": [
    "### Author\n",
    "\n",
    "Boris Nedyalkov, Quantum Computing Lab, IFAE, Barcelona"
   ]
  },
  {
   "cell_type": "markdown",
   "id": "f6da5fc5-ddaf-4929-b468-9dabc7260ebf",
   "metadata": {},
   "source": [
    "#### **In this notebook you will learn how to:**\n",
    "\n",
    "* Import all the libraries one needs\n",
    "* Set the working parameters of the machine\n",
    "* Initialize the machine\n",
    "* Create waveforms\n",
    "* Download the waveforms to the Proteus\n",
    "* Create a tasktable (sequences of pulses)\n",
    "* Readout the signal [==UNDER DEVELOPEMENT==]\n",
    "* Process the signal readout data [==UNDER DEVELOPEMENT==]"
   ]
  },
  {
   "cell_type": "markdown",
   "id": "abc6d9ec-e0c0-46bf-a073-b464dc8b29a6",
   "metadata": {},
   "source": [
    "### Import some generic libraries"
   ]
  },
  {
   "cell_type": "code",
   "execution_count": 1,
   "id": "37c49ddb-92d4-43f0-8152-d3301f3781f3",
   "metadata": {},
   "outputs": [],
   "source": [
    "import numpy as np\n",
    "import matplotlib.pyplot as plt\n",
    "import sys\n",
    "import time\n",
    "import os\n",
    "\n",
    "srcpath = os.path.realpath('../../SourceFiles')\n",
    "sys.path.append(srcpath)\n",
    "\n",
    "# These are the Tabor developers' libraries, they allow us to I/O interface with the Proteus\n",
    "from teproteus import TEProteusAdmin as TepAdmin\n",
    "from teproteus import TEProteusInst as TepInst"
   ]
  },
  {
   "cell_type": "markdown",
   "id": "efb28194-eef3-4121-ab43-c5f19b97af91",
   "metadata": {},
   "source": [
    "### Import our homemade libraries"
   ]
  },
  {
   "cell_type": "code",
   "execution_count": 2,
   "id": "19df99fe-7a50-42b5-abf2-1e9fab726695",
   "metadata": {},
   "outputs": [],
   "source": [
    "import initializers  # this library contains intialization functions for the Proteus \n",
    "\n",
    "import pulse_lib # this library contains all the types of pulses, one can add here a new type of pulse if needed\n",
    "import tasks # this library contains all the types of basic tasks, new ones can be added if need arises\n",
    "import readers # this library contains all the readout functions\n",
    "\n",
    "import helpers # this library contains auxillary functions"
   ]
  },
  {
   "cell_type": "markdown",
   "id": "d3182494-1074-4bb2-aa30-038374d3ed5e",
   "metadata": {},
   "source": [
    "### Set the parameters of the machine"
   ]
  },
  {
   "cell_type": "code",
   "execution_count": 53,
   "id": "026e92e3-aaff-4001-a104-31eb9a45d9bc",
   "metadata": {},
   "outputs": [],
   "source": [
    "SCLK = 2.5e9  ### sampling clock rate of the generator (AWG)\n",
    "DUC_INTERP = 1  ### the DUC interpolator mode"
   ]
  },
  {
   "cell_type": "markdown",
   "id": "887d1996-6d77-4e2a-8758-b5c4ac845714",
   "metadata": {},
   "source": [
    "### Initialize the machine"
   ]
  },
  {
   "cell_type": "code",
   "execution_count": 54,
   "id": "e1983c6c-0306-4dc9-b9b4-f3f7c18e1d2e",
   "metadata": {},
   "outputs": [
    {
     "name": "stdout",
     "output_type": "stream",
     "text": [
      "\n",
      "=========CONNECTING=========\n",
      "process id 16028\n",
      "Connected to: Tabor Electronics,P9484M,000000220642,1.223.0\n",
      "Model: P9484M\n",
      "===CONNECTION ESTABLISHED===\n",
      "============================\n",
      "\n",
      "===SYSTEM'S INFORMATION===\n",
      "DAC waveform format: 16 bits-per-point\n",
      "Max DAC wave-point level: 65535\n",
      "Half DAC wave-point level: 32767.0\n",
      "Number of channels: 4\n",
      "Max segment number: 65536\n",
      "Available memory per DDR: 8,581,545,984 wave-bytes\n",
      "==========READY============\n",
      "===========================\n"
     ]
    }
   ],
   "source": [
    "# get the DAC mode, range, Serial port #, the data type of the system (8 or 16bit), and the instrument handle\n",
    "dac_mode, max_dac, sid, data_type, inst = initializers.connection_func() # Make sure the Model name is P9484M, that the name of our module"
   ]
  },
  {
   "cell_type": "markdown",
   "id": "2a9281e5-89d5-4072-ac27-686e1950a61e",
   "metadata": {},
   "source": [
    "### Initialize the channels"
   ]
  },
  {
   "cell_type": "code",
   "execution_count": 55,
   "id": "4c32681c-2405-470c-90b4-cd2acbca65fd",
   "metadata": {},
   "outputs": [
    {
     "name": "stdout",
     "output_type": "stream",
     "text": [
      "\n",
      "===INITIALIZATION OF CHANNEL 1===  -->  ===DONE===\n",
      "ERRORS: 0, no error\n"
     ]
    }
   ],
   "source": [
    "# initialize channel 1\n",
    "channel_numb = 1\n",
    "initializers.initialization_func(channel_numb, inst, SCLK)\n",
    "\n",
    "# # initialize all the channels\n",
    "# for i in range(0,4):  \n",
    "#     channel_numb = i + 1\n",
    "#     initializers.initialization_func(channel_numb, inst, SCLK) "
   ]
  },
  {
   "cell_type": "markdown",
   "id": "0070498e-93e1-4b70-9736-ae82398666e6",
   "metadata": {},
   "source": [
    "### Define some pulse shapes"
   ]
  },
  {
   "cell_type": "code",
   "execution_count": 56,
   "id": "cb98494b-4f42-42f9-bd57-5e04422b3c82",
   "metadata": {},
   "outputs": [],
   "source": [
    "pulse = pulse_lib.Pulse(SCLK, DUC_INTERP, show_plot = True)"
   ]
  },
  {
   "cell_type": "markdown",
   "id": "d6d34577-66de-4113-8bfd-16a796bd5936",
   "metadata": {},
   "source": [
    "Defining the sinus and the blank signal. After that we convert them to 16bit numbers (the Proteus takes its input in that format)"
   ]
  },
  {
   "cell_type": "markdown",
   "id": "fa58624e-b285-48d4-ab70-eee2be70d848",
   "metadata": {},
   "source": [
    "Note: A !WARNING! message may come if the data chunk representing the form doesn't have the right length of bytes.\n",
    "An automatic script to convert it to the closest right length will engage and fix this. The resulting length of the waveform in bytes will be given after."
   ]
  },
  {
   "cell_type": "code",
   "execution_count": 57,
   "id": "f235182c-b526-4a42-83c6-9b840e87cc3e",
   "metadata": {},
   "outputs": [
    {
     "name": "stdout",
     "output_type": "stream",
     "text": [
      "original seglen: 25000.0\n",
      "\n",
      "!WARNING! The segment of the defined signal (25000.0 points) does not comply with the format of the possible data chunk for a signal, which is ||| datalength = ( 64 * (32 + n)) |||, where         n is an integer.\n",
      "-----------Will edit the signal automatically to suit the # of points-----------\n",
      "\n",
      "formated seglen: 24960\n",
      "The blank singnal is with time width: 8.192e-07\n"
     ]
    },
    {
     "data": {
      "image/png": "[encoded data removed]",
      "text/plain": [
       "<Figure size 432x288 with 1 Axes>"
      ]
     },
     "metadata": {
      "needs_background": "light"
     },
     "output_type": "display_data"
    }
   ],
   "source": [
    "sin_f = pulse.simple_sin(amplitude = 1, frequency = 100000)  ### creating a sinus shape, frequency is in Hz\n",
    "\n",
    "blank = pulse.blank_signal()\n",
    "\n",
    "sin_f = helpers.digital_conv_func(sin_f, max_dac, data_type) ### converting the signal from float format array to a binary format array\n",
    "blank = helpers.digital_conv_func(blank, max_dac, data_type)"
   ]
  },
  {
   "cell_type": "markdown",
   "id": "65f0ce56-5e38-4099-9194-d007d0f151c5",
   "metadata": {},
   "source": [
    "@ Defining the parameters and creating a gaussian pulse. After that we convert the signal array to 16bit format (the Proteus takes its input in that format)"
   ]
  },
  {
   "cell_type": "code",
   "execution_count": 58,
   "id": "478e0c5b-8e04-4aea-b34b-94e1b2fa7238",
   "metadata": {},
   "outputs": [
    {
     "name": "stdout",
     "output_type": "stream",
     "text": [
      "period = 1000.0[ns]\n",
      "sigma = 3400.0[ns]\n",
      "sigma_num = 8500.0 datapoints \n",
      "5 8500.0 42500.0\n",
      "Gaussian Segement length = 42500 datapoints\n",
      "\n",
      "Gaussian Segement length (in time) = 17000.0 [ns]]\n",
      "\n",
      "!WARNING! Sigma is comparable to the period of the oscillation\n",
      "\n",
      "\n",
      "!WARNING! The segment of the defined signal (42500 points) does not comply with the format of the possible data chunk for a signal, which is ||| datalength = ( 64 * (32 + n)) |||, where         n is an integer.\n",
      "-----------Will edit the signal automatically to suit the # of points-----------\n",
      "\n",
      "Gaussian frequency = 1.0[Mhz]\n"
     ]
    },
    {
     "data": {
      "image/png": "[encoded data removed]",
      "text/plain": [
       "<Figure size 432x288 with 1 Axes>"
      ]
     },
     "metadata": {
      "needs_background": "light"
     },
     "output_type": "display_data"
    }
   ],
   "source": [
    "frequency = 1e6 ### frequency of the oscillation\n",
    "sigma = 340e-08  ### make it bigger then the period of the oscillation \n",
    "width_over_sigma = 5    # time width of the gaussian pulse, a.k.a. how many sigmas wide is the pulse, for example - width = [5*sigma], by \n",
    "amplitude = 1\n",
    "\n",
    "gauss_signal_i_init, gauss_signal_q_init, tot, gauss_signal_envelope_init = pulse.gaussian_pulse (amplitude, \n",
    "                                                                                                  sigma, \n",
    "                                                                                                  width_over_sigma, \n",
    "                                                                                                  frequency)\n",
    "\n",
    "gauss_signal_i = helpers.digital_conv_func(gauss_signal_i_init, max_dac, data_type)"
   ]
  },
  {
   "cell_type": "code",
   "execution_count": 59,
   "id": "15faff51-e85f-474a-9148-b3a297a6590c",
   "metadata": {},
   "outputs": [
    {
     "name": "stdout",
     "output_type": "stream",
     "text": [
      "[3.72555408e-06 0.00000000e+00 3.72993915e-06 ... 0.00000000e+00\n",
      " 3.72993915e-06 0.00000000e+00]\n"
     ]
    }
   ],
   "source": [
    "inter_array = np.empty(2*len(gauss_signal_envelope_init))\n",
    "\n",
    "for i in range(0, len(gauss_signal_envelope_init)):\n",
    "    inter_array[0+i*2] = gauss_signal_envelope_init[i]\n",
    "    inter_array[1+i*2] = 0\n",
    "\n",
    "    \n",
    "inter_array2 = np.empty(len(gauss_signal_i_init) + len(gauss_signal_q_init))\n",
    "\n",
    "for i in range(0, len(gauss_signal_i_init)):\n",
    "    inter_array2[0+i*2] = gauss_signal_i_init[i]\n",
    "    inter_array2[1+i*2] = gauss_signal_q_init[i]\n",
    "\n",
    "\n",
    "print(inter_array)\n",
    "len(inter_array)\n",
    "inter_array = helpers.digital_conv_func(inter_array, max_dac, data_type)\n",
    "inter_array2 = helpers.digital_conv_func(inter_array2, max_dac, data_type)"
   ]
  },
  {
   "cell_type": "code",
   "execution_count": 60,
   "id": "d2091051-d88b-467d-af44-e9dceb32279b",
   "metadata": {},
   "outputs": [],
   "source": [
    "##### TEST IQ\n",
    "I = np.linspace (1,1,10000)\n",
    "Q = I*0\n",
    "\n",
    "inter_array3 = np.empty(len(I) + len(Q))\n",
    "for i in range(0, len(I)):\n",
    "    inter_array3[0+i*2] = I[i]\n",
    "    inter_array3[1+i*2] = Q[i]\n",
    "    \n",
    "inter_array3 = helpers.digital_conv_func(inter_array3, max_dac, data_type)"
   ]
  },
  {
   "cell_type": "code",
   "execution_count": 61,
   "id": "7675ed06-8e04-49ee-b2f8-f5ccafed8d33",
   "metadata": {},
   "outputs": [
    {
     "data": {
      "text/plain": [
       "array([65534, 32767, 65534, ..., 32767, 65534, 32767], dtype=uint16)"
      ]
     },
     "execution_count": 61,
     "metadata": {},
     "output_type": "execute_result"
    }
   ],
   "source": [
    "inter_array3"
   ]
  },
  {
   "cell_type": "markdown",
   "id": "945013ac-5da4-4d2c-a555-4ec634c7b538",
   "metadata": {},
   "source": [
    "@ Same thing but with the sinus pulse"
   ]
  },
  {
   "cell_type": "code",
   "execution_count": 62,
   "id": "5f88aaf5",
   "metadata": {},
   "outputs": [
    {
     "name": "stdout",
     "output_type": "stream",
     "text": [
      "period = 1000.0[ns]\n",
      "Sine segement length = 32499 datapoints\n",
      "\n",
      "Sine segement length (in time) = 13000.0 [ns]]\n",
      "\n",
      "!WARNING! The segment of the defined signal (32499 points) does not comply with the format of the possible data chunk for a signal, which is ||| datalength = ( 64 * (32 + n)) |||, where         n is an integer.\n",
      "-----------Will edit the signal automatically to suit the # of points-----------\n",
      "\n",
      "Signal frequency = 1.0[Mhz]\n"
     ]
    },
    {
     "data": {
      "image/png": "[encoded data removed]",
      "text/plain": [
       "<Figure size 432x288 with 1 Axes>"
      ]
     },
     "metadata": {
      "needs_background": "light"
     },
     "output_type": "display_data"
    }
   ],
   "source": [
    "frequency = 1e6 ### frequency of the oscillation\n",
    "width = 13e-6\n",
    "amplitude = 1\n",
    "\n",
    "sin_signal_i = pulse.sin_pulse (amplitude, width, frequency)[0]\n",
    "\n",
    "sin_signal_i = helpers.digital_conv_func(sin_signal_i, max_dac, data_type)"
   ]
  },
  {
   "cell_type": "code",
   "execution_count": null,
   "id": "80e23b1a-f196-415e-ba4f-31deaf52de5a",
   "metadata": {},
   "outputs": [],
   "source": []
  },
  {
   "cell_type": "markdown",
   "id": "0c4646e8-2094-480b-8d31-a440e418f668",
   "metadata": {},
   "source": [
    "### Downloading some wave shapes onto the Proteus"
   ]
  },
  {
   "cell_type": "code",
   "execution_count": 63,
   "id": "f39d9481-4043-4157-9123-5320c406f28d",
   "metadata": {},
   "outputs": [],
   "source": [
    "wave = gauss_signal_i\n",
    "wave2 = sin_f\n",
    "wave3 = blank\n",
    "wave4 = sin_signal_i\n",
    "wave5 = inter_array\n",
    "wave6 = inter_array2\n",
    "wave7 = inter_array3"
   ]
  },
  {
   "cell_type": "code",
   "execution_count": 298,
   "id": "248967d3-cc6f-4ccd-9d7a-5597b9d90c37",
   "metadata": {},
   "outputs": [
    {
     "name": "stdout",
     "output_type": "stream",
     "text": [
      "\n",
      "===INITIALIZATION OF CHANNEL 1===  -->  ===DONE===\n",
      "ERRORS: 0, no error\n"
     ]
    }
   ],
   "source": [
    "# initialize the channel\n",
    "channel_numb = 1\n",
    "initializers.initialization_func(channel_numb, inst, SCLK)"
   ]
  },
  {
   "cell_type": "code",
   "execution_count": 307,
   "id": "81847830-7bd0-47c4-bff5-ddaa645b99cf",
   "metadata": {},
   "outputs": [
    {
     "name": "stdout",
     "output_type": "stream",
     "text": [
      "\n"
     ]
    }
   ],
   "source": [
    "resp = inst.send_scpi_query(':DIG:DDC:CLKS DIG')  # !!! doesn't work\n",
    "print(resp)"
   ]
  },
  {
   "cell_type": "code",
   "execution_count": 323,
   "id": "9c00bd74-57a3-49e8-81b0-067177dc1d1a",
   "metadata": {},
   "outputs": [
    {
     "data": {
      "text/plain": [
       "0"
      ]
     },
     "execution_count": 323,
     "metadata": {},
     "output_type": "execute_result"
    }
   ],
   "source": [
    "#FIRST CHANNEL SETTINGS\n",
    "inst.send_scpi_cmd('INST:CHAN 1') # instantiate channel 1\n",
    "inst.send_scpi_cmd(':TRAC:DEL:ALL') # delete unnecessary old data\n",
    "inst.send_scpi_cmd(':SOUR:MODE DUC') # start in DUX mode (this wiil enable interpolation and IQ mixing)\n",
    "inst.send_scpi_cmd(':SOUR:INT X8') # set Proteus to interpolation X8.\n",
    "inst.send_scpi_cmd(':SOUR:IQM ONE') # set modulation to IQ Modulation type ONE\n",
    "\n",
    "#---------------------------------------------------------------------\n",
    "#Play selected segment in selected channel and set amplitude\n",
    "#---------------------------------------------------------------------\n",
    "#Set sampling rate for the AWG\n",
    "inst.send_scpi_cmd(':FREQ:RAST {0}'.format(SCLK))\n",
    "inst.send_scpi_cmd(':NCO:CFR1 {0}'.format(4e6)) # set NCO frequency of CH1 to some value\n",
    "inst.send_scpi_cmd(':VOLT 0.2')\n",
    "#inst.send_scpi_cmd(':NCO:SIXD1 ON')"
   ]
  },
  {
   "cell_type": "markdown",
   "id": "c7205168-ffda-4c2e-bb1d-43c0bb93435e",
   "metadata": {},
   "source": [
    "@ When we download the signal onto the proteus we choose a segment number to assign to it, by this number we will refer to the signal later."
   ]
  },
  {
   "cell_type": "code",
   "execution_count": 324,
   "id": "a2ac794c-3f26-4fcb-bb98-1bc51e4e9b77",
   "metadata": {},
   "outputs": [
    {
     "name": "stdout",
     "output_type": "stream",
     "text": [
      "wave size: 20000\n",
      "0, no error\n"
     ]
    }
   ],
   "source": [
    "# download signal to an approprate 'channel' and 'segment of the channel'\n",
    "# helpers.download_func (inst, wave, channel = 1, segment = 1)\n",
    "# helpers.download_func (inst, wave2, channel = 1, segment = 2)\n",
    "# helpers.download_func (inst, wave3, channel = 1, segment = 3)\n",
    "# helpers.download_func (inst, wave4, channel = 1, segment = 4)\n",
    "# helpers.download_func (inst, wave5, channel = 1, segment = 5)\n",
    "#helpers.download_func (inst, wave6, channel = 1, segment = 6)\n",
    "helpers.download_func (inst, wave7, channel = 1, segment = 7)"
   ]
  },
  {
   "cell_type": "code",
   "execution_count": 325,
   "id": "4a7c3f66-3b32-4325-bd5b-020b51363478",
   "metadata": {},
   "outputs": [],
   "source": [
    "# inst.send_scpi_cmd(':INST:CHAN 1')\n",
    "# # inst.send_scpi_cmd(':TRAC:DEL:ALL');   \n",
    "# inst.send_scpi_cmd(':SOUR:MODE DUC');\n",
    "# # inst.SendScpi(':SOUR:INT X8');\n",
    "# # inst.SendScpi(':SOUR:IQM ONE'); \n",
    "\n",
    "# # channel = 1 \n",
    "# Interpolation = 'X2'\n",
    "\n",
    "# # set Proteus to interpolation X8.\n",
    "# inst.send_scpi_cmd(':SOUR:INT {0}'.format(Interpolation))\n",
    "# resp = inst.send_scpi_query(':SYST:ERR?')\n",
    "# print(resp)\n",
    "\n",
    "# # set NCOab frequency of CH1\n",
    "# # inst.send_scpi_cmd(':INST:CHAN {0}'.format(channel))\n",
    "# inst.send_scpi_cmd(':SOUR:CFR1 100e6') # for channel 1 a.k.a. CFR1\n",
    "# resp = inst.send_scpi_query(':SYST:ERR?')\n",
    "# print(resp)\n",
    "\n",
    "# inst.send_scpi_cmd(':NCO:SIXD1 ON')\n",
    "\n",
    "# # set modulation to ONE\n",
    "# inst.send_scpi_cmd(':SOUR:IQM ONE')\n",
    "# resp = inst.send_scpi_query(':SYST:ERR?')\n",
    "# print(resp)\n",
    "\n",
    "# maxRate = 9e9\n",
    "# # chande DAC clock to 9000Hz\n",
    "# inst.send_scpi_cmd(':FREQ:RAST ' + str(maxRate))\n",
    "# resp = inst.send_scpi_query(':SYST:ERR?')\n",
    "# print(resp)\n",
    "\n",
    "# # set NCOab frequency of CH1\n",
    "# # inst.send_scpi_cmd(':INST:CHAN {0}'.format(channel))\n",
    "# inst.send_scpi_cmd(':SOUR:CFR1 10e6') # for channel 1 a.k.a. CFR1\n",
    "# resp = inst.send_scpi_query(':SYST:ERR?')\n",
    "# print(resp)\n",
    "\n",
    "# # resp = inst.send_scpi_query(':SOUR:NCO:CFR1?')\n",
    "# # print('NCO CFR1:', float(resp)/1e6, \"MHz\")\n",
    "\n",
    "# # inst.send_scpi_cmd(':INST:CHAN 1')"
   ]
  },
  {
   "cell_type": "code",
   "execution_count": 326,
   "id": "40263f94-40e6-4263-9eb5-c3a09018479e",
   "metadata": {},
   "outputs": [],
   "source": [
    "# #FIRST CHANNEL SETTINGS\n",
    "# inst.send_scpi_cmd('INST:CHAN 1')\n",
    "# inst.send_scpi_cmd(':TRAC:DEL:ALL')\n",
    "# inst.send_scpi_cmd(':SOUR:MODE DUC')\n",
    "# inst.send_scpi_cmd(':SOUR:INT X8')\n",
    "# inst.send_scpi_cmd(':SOUR:IQM ONE')  "
   ]
  },
  {
   "cell_type": "code",
   "execution_count": 327,
   "id": "9b2df966-4ea7-48cb-bec5-d43a7f8495f3",
   "metadata": {},
   "outputs": [],
   "source": [
    "# #---------------------------------------------------------------------\n",
    "# #Play selected segment in selected channel and set amplitude\n",
    "# #---------------------------------------------------------------------\n",
    "# #Set sampling rate for AWG as defined in the preamble.   \n",
    "# inst.send_scpi_cmd(':FREQ:RAST {0}'.format(9e9))\n",
    "# # fDev = 0.0; %1.115;\n",
    "# inst.send_scpi_cmd(':NCO:CFR1 {0}'.format(30e6))\n",
    "# inst.send_scpi_cmd(':NCO:SIXD1 ON')  "
   ]
  },
  {
   "cell_type": "markdown",
   "id": "5f70e146-f8a0-44b6-b7cb-e23551f6ac9d",
   "metadata": {},
   "source": [
    "### Let us now define a tasktable (as sequence of pulses and actions)"
   ]
  },
  {
   "cell_type": "code",
   "execution_count": 328,
   "id": "392a7913-6267-414f-8cfc-4d7dac21a0e8",
   "metadata": {},
   "outputs": [],
   "source": [
    "task = tasks.Task(inst)"
   ]
  },
  {
   "cell_type": "code",
   "execution_count": 329,
   "id": "d512d4e6-9b01-41b1-a4d2-9366f58811ba",
   "metadata": {},
   "outputs": [],
   "source": [
    "# task.simple_tasker (tasklen = 2, channel = 1)"
   ]
  },
  {
   "cell_type": "code",
   "execution_count": 330,
   "id": "6e6abf22-f4a6-4d31-b0be-8f031bf1bde2",
   "metadata": {},
   "outputs": [],
   "source": [
    "########################################## DEBUGGING ZONE ##########################################"
   ]
  },
  {
   "cell_type": "code",
   "execution_count": 331,
   "id": "b6b46b45-4ce4-417c-8adf-a732f9f96b9e",
   "metadata": {},
   "outputs": [],
   "source": [
    "# ml.simple_sequence_task (inst, channel = 1, time_delay = 15, segment_pulse1 = 1, segment_pulse2 = 4, segment_time_delay = 3)"
   ]
  },
  {
   "cell_type": "code",
   "execution_count": 332,
   "id": "50b9e420-9553-4a12-9b25-6223063edbed",
   "metadata": {},
   "outputs": [],
   "source": [
    "#########################################"
   ]
  },
  {
   "cell_type": "code",
   "execution_count": 335,
   "id": "a85ad8c0-9eca-494f-8fa5-9eed05542238",
   "metadata": {},
   "outputs": [
    {
     "name": "stdout",
     "output_type": "stream",
     "text": [
      "Downloading Task table to channel 1\n",
      "0, no error\n",
      "0, no error\n"
     ]
    }
   ],
   "source": [
    "channel = 1\n",
    "segment_number = 7\n",
    "\n",
    "def solid_task (inst, channel, segment_number = int):\n",
    "    \n",
    "    \"\"\"\n",
    "     This is a TEMPLATE tasktable. It consists of one solid waveform and a trigger (for triggering the digitizer).\n",
    "        \n",
    "    INPUTS:\n",
    "        inst - the instance of inst\n",
    "        channel - channel number\n",
    "        segment_number - this is the refernce number of the segment that includes all the pulses you want to output.\n",
    "    \n",
    "    OUTPUTS:\n",
    "        None   \n",
    "    \"\"\"\n",
    "\n",
    "    # point to a channel of your choice\n",
    "    inst.send_scpi_cmd(':INST:CHAN {0}'.format(channel))\n",
    "    \n",
    "    # this task will have length one\n",
    "    inst.send_scpi_cmd(':TASK:COMP:LENG {0}'.format(1)) \n",
    "\n",
    "    ### make the tasktable ###\n",
    "\n",
    "    # select the first task to put on the task table\n",
    "    inst.send_scpi_cmd(':TASK:COMP:SEL {0}'.format(1))\n",
    "\n",
    "    # singluar type of task (not compound one)\n",
    "    inst.send_scpi_cmd(':TASK:COMP:TYPE SING')\n",
    "\n",
    "    # put the trigger here\n",
    "    inst.send_scpi_cmd(':TASK:COMP:DTR ON') \n",
    "\n",
    "    # refer to the same task as the next task, this will create a foreer loop of the same task\n",
    "    inst.send_scpi_cmd(':TASK:COMP:NEXT1 {0}'.format(1)) \n",
    "\n",
    "    # how many loops to do for this same task\n",
    "    inst.send_scpi_cmd(':TASK:COMP:LOOP {0}'.format(1))\n",
    "    inst.send_scpi_cmd(':TASK:COMP:SEGM {0}'.format(segment_number))\n",
    "\n",
    "    # write task to the machine\n",
    "    inst.send_scpi_cmd(':TASK:COMP:WRIT')\n",
    "    print('Downloading Task table to channel {0}'.format(channel))\n",
    "\n",
    "    # see if any errors came up\n",
    "    resp = inst.send_scpi_query(':SYST:ERR?')\n",
    "    print(resp)\n",
    "\n",
    "    return None\n",
    "\n",
    "solid_task (inst, channel, segment_number)\n",
    "\n",
    "# define the operation mode\n",
    "inst.send_scpi_cmd('FUNC:MODE TASK')\n",
    "\n",
    "# point to the channel\n",
    "inst.send_scpi_cmd(':INST:CHAN {0}'.format(channel))\n",
    "\n",
    "# Output voltage set to:\n",
    "# inst.send_scpi_cmd(':SOUR:VOLT MAX')\n",
    "inst.send_scpi_cmd(':VOLT 0.2')\n",
    "\n",
    "# start the output\n",
    "inst.send_scpi_cmd(':OUTP ON')\n",
    "\n",
    "\n",
    "# see if any errors came up\n",
    "resp = inst.send_scpi_query(':SYST:ERR?')\n",
    "print(resp)\n"
   ]
  },
  {
   "cell_type": "code",
   "execution_count": null,
   "id": "ec7c91d7-88f1-46c8-bf52-d1fbc32bdf6b",
   "metadata": {},
   "outputs": [],
   "source": []
  },
  {
   "cell_type": "code",
   "execution_count": 336,
   "id": "46a8bf6e",
   "metadata": {},
   "outputs": [],
   "source": [
    "# def new_simple_sequence_task (inst, channel, time_delay, segment_pulse1 = int, segment_pulse2 = int, segment_time_delay = int):\n",
    "    \n",
    "#     \"\"\"\n",
    "#     This is simple quantum bit sequance pulser task. It sends one pulse, waits for some time and then sends some other pulse. \n",
    "#     This is a TEMPLATE tasktable. To be used for more elaborate qubit manipulation sequences.\n",
    "    \n",
    "#     INPUTS:\n",
    "#     inst - the instance of inst\n",
    "#     channel - channel number\n",
    "#     segment1\n",
    "#     segment2\n",
    "#     segment-time-delay - this is the segment that one has assigned the \"blank\" signal to, it is used as an empty or a \"\"\n",
    "        \n",
    "#     OUTPUTS:\n",
    "#         None\n",
    "#     \"\"\"\n",
    "    \n",
    "#     cmd = ':INST:CHAN {0}'.format(channel)\n",
    "#     inst.send_scpi_cmd(cmd )\n",
    "\n",
    "#     # what is the length of this task sequence\n",
    "#     cmd = ':TASK:COMP:LENG {0}'.format(1) ### SET TO 3, because of the 3 segments !!! INCREASE IF NEEDED !!!\n",
    "#     inst.send_scpi_cmd(cmd )\n",
    "    \n",
    "#     ############################################### SUBROUTINE #####################################\n",
    "    \n",
    "#     def subroutine (curr_task, segnb, tasklen, loops):\n",
    "\n",
    "#             cmd = ':TASK:COMP:SEL {0}'.format(curr_task)\n",
    "#             inst.send_scpi_cmd(cmd)\n",
    "            \n",
    "#             cmd = ':TASK:COMP:TYPE SING'\n",
    "#             inst.send_scpi_cmd(cmd)\n",
    "\n",
    "#             if curr_task == 1: \n",
    "#                 cmd = ':TASK:COMP:DTR ON'\n",
    "#                 inst.send_scpi_cmd(cmd)\n",
    "\n",
    "#             if curr_task==tasklen:\n",
    "#                 cmd = ':TASK:COMP:NEXT1 {0}'.format(1)\n",
    "#                 inst.send_scpi_cmd(cmd)\n",
    "#             else:\n",
    "#                 cmd = ':TASK:COMP:NEXT1 {0}'.format(curr_task+1)\n",
    "#                 print(\"Next task:\",curr_task)\n",
    "#                 inst.send_scpi_cmd(cmd)\n",
    "                \n",
    "#             # # Trigger Digitizer  \n",
    "#             # cmd = ':TASK:COMP:DTR ON'\n",
    "#             # inst.send_scpi_cmd(cmd)\n",
    "\n",
    "#             # define the number of loops for bthe specific task\n",
    "#             cmd = ':TASK:COMP:LOOP {0}'.format(loops)\n",
    "#             inst.send_scpi_cmd(cmd)\n",
    "\n",
    "#             # name the segment of memory to take the signal to be tasked with the aformentioned parameters from\n",
    "#             cmd = ':TASK:COMP:SEGM {0}'.format(segnb)\n",
    "#             inst.send_scpi_cmd(cmd)\n",
    "        \n",
    "#     ################################################################################################\n",
    "    \n",
    "# #     # Trigger Digitizer  \n",
    "# #     cmd = ':TASK:COMP:DTR ON'\n",
    "# #     inst.send_scpi_cmd(cmd)\n",
    "#     subroutine (curr_task = 1, segnb = segment_pulse1, tasklen = 1, loops = 1)\n",
    "# #     subroutine (curr_task = 2, segnb = segment_time_delay, tasklen = 3, loops = time_delay)\n",
    "# #     subroutine (curr_task = 3, segnb = segment_pulse2, tasklen = 3, loops = 1)\n",
    "    \n",
    "\n",
    "#     # write task to the machine\n",
    "#     cmd = ':TASK:COMP:WRIT'\n",
    "#     inst.send_scpi_cmd(cmd)\n",
    "#     print('Downloading Task table to channel {0}'.format(channel))\n",
    "\n",
    "# #     # define the operation mode\n",
    "# #     cmd = 'FUNC:MODE TASK'\n",
    "# #     inst.send_scpi_cmd(cmd)\n",
    "\n",
    "    \n",
    "# #     # point to the channel\n",
    "# #     cmd = ':INST:CHAN {0}'.format(channel)\n",
    "# #     inst.send_scpi_cmd(cmd)\n",
    "\n",
    "# #     # start the output\n",
    "# #     cmd = ':OUTP ON'\n",
    "# #     inst.send_scpi_cmd(cmd)\n",
    "\n",
    "\n",
    "#     # see if any errors came up\n",
    "#     resp = inst.send_scpi_query(':SYST:ERR?')\n",
    "#     print(resp)\n",
    "    \n",
    "#     return None\n",
    "\n",
    "# ###########################################################\n",
    "\n",
    "# new_simple_sequence_task (inst, channel = 1, time_delay = 15, segment_pulse1 = 5, segment_pulse2 = 6, segment_time_delay = 3)\n",
    "\n",
    "# # define the operation mode\n",
    "# cmd = 'FUNC:MODE TASK'\n",
    "# inst.send_scpi_cmd(cmd)\n",
    "\n",
    "# channel = 1\n",
    "# # point to the channel\n",
    "# cmd = ':INST:CHAN {0}'.format(channel)\n",
    "# inst.send_scpi_cmd(cmd)\n",
    "\n",
    "# # start the output\n",
    "# cmd = ':OUTP ON'\n",
    "# inst.send_scpi_cmd(cmd)\n",
    "\n",
    "\n",
    "# # see if any errors came up\n",
    "# resp = inst.send_scpi_query(':SYST:ERR?')\n",
    "# print(resp)"
   ]
  },
  {
   "cell_type": "code",
   "execution_count": 337,
   "id": "5f45ca25-a2ea-46f3-9d3c-4215321755ef",
   "metadata": {},
   "outputs": [],
   "source": [
    "# cmd = ':OUTP OFF'\n",
    "# inst.send_scpi_cmd(cmd)"
   ]
  },
  {
   "cell_type": "code",
   "execution_count": 338,
   "id": "631d00fc",
   "metadata": {},
   "outputs": [],
   "source": [
    "#########################################"
   ]
  },
  {
   "cell_type": "code",
   "execution_count": 339,
   "id": "115fd7c2",
   "metadata": {},
   "outputs": [
    {
     "name": "stdout",
     "output_type": "stream",
     "text": [
      "0, no error\n",
      "0, no error\n",
      "0\n",
      "0, no error\n",
      "0, no error\n"
     ]
    }
   ],
   "source": [
    "# # Setup the digitizer in two-channel mode\n",
    "\n",
    "# # Clean memory \n",
    "# # Probably you don't need\n",
    "# # inst.send_scpi_cmd(':DIG:ACQ:ZERO:ALL')  ## !!!! try with and without this, when everything is running OK\n",
    "\n",
    "# resp = inst.send_scpi_query(':SYST:ERR?')\n",
    "# print(resp)\n",
    "\n",
    "# inst.send_scpi_cmd(':DIG:MODE DUAL')\n",
    "\n",
    "# resp = inst.send_scpi_query(':SYST:ERR?')\n",
    "# print(resp)\n",
    "\n",
    "# # set the sampling rate for the Digitizer (or ADC)\n",
    "# inst.send_scpi_cmd(':DIG:FREQ 2.5e9')\n",
    "\n",
    "# ###########################################\n",
    "\n",
    "# '''This makes sense only for mode COMPLEX'''\n",
    "# # # Set center frequency of channel 1 to 100MHz  \n",
    "# # DDC_NCO = 1e9   # !!!!! use the frequency of you pulse here !!!!!\n",
    "# # inst.send_scpi_cmd(':DIG:DDC:CFR1 {0}'.format(DDC_NCO))\n",
    "\n",
    "# ###########################################\n",
    "\n",
    "# resp = inst.send_scpi_query(':SYST:ERR?')\n",
    "# print(resp)\n",
    "\n",
    "# # Enable capturing data from channel 1\n",
    "# inst.send_scpi_cmd(':DIG:CHAN:SEL 1')\n",
    "# inst.send_scpi_cmd(':DIG:CHAN:STATE ENAB')\n",
    "# # # Select the internal-trigger as start-capturing trigger:\n",
    "# # inst.send_scpi_cmd(':DIG:TRIG:SOURCE CPU')  ###!!!!!!!!!!!!!!!!!!!!!!\n",
    "\n",
    "# # Select the task trigger as start-capturing trigger:\n",
    "# inst.send_scpi_cmd(':DIG:TRIG:SOURCE TASK1')  ###!!!!!!!!!!!!!!!!!!!!!!\n",
    "\n",
    "# # Set Trigger AWG delay to 0\n",
    "# # how long to wait for the acuisition after the trigger has triggered\n",
    "# inst.send_scpi_cmd(':DIG:TRIG:AWG:TDEL {0}'.format(0))  ##!!!!!!!!!!!!!! Don't know if it should be like this\n",
    "\n",
    "# resp = inst.send_scpi_query(':SYST:ERR?')\n",
    "# print(resp)\n",
    "\n",
    "# #################\n",
    "# # # Enable capturing data from channel 2\n",
    "# # inst.send_scpi_cmd(':DIG:CHAN:SEL 2')\n",
    "# # inst.send_scpi_cmd(':DIG:CHAN:STATE ENAB')\n",
    "# # # Select the internal-trigger as start-capturing trigger:\n",
    "# # inst.send_scpi_cmd(':DIG:TRIG:SOURCE CPU')\n",
    "\n",
    "\n",
    "\n",
    "\n",
    "################################### TEST #################################\n",
    "\n",
    "# Setup the digitizer in two-channel mode\n",
    "\n",
    "# Clean memory \n",
    "# Probably you don't need\n",
    "# inst.send_scpi_cmd(':DIG:ACQ:ZERO:ALL')  ## !!!! try with and without this, when everything is running OK\n",
    "\n",
    "# resp = inst.send_scpi_query(':DIG:DDC:CLKS AWG')  # !!! doesn't work\n",
    "# print(resp)\n",
    "\n",
    "resp = inst.send_scpi_query(':SYST:ERR?')\n",
    "print(resp)\n",
    "\n",
    "inst.send_scpi_cmd(':DIG:MODE DUAL')\n",
    "inst.send_scpi_cmd(':DIG:CHAN:RANGe HIGH')\n",
    "\n",
    "resp = inst.send_scpi_query(':SYST:ERR?')\n",
    "print(resp)\n",
    "\n",
    "\n",
    "\n",
    "# set the sampling rate for the Digitizer (or ADC)\n",
    "inst.send_scpi_cmd(':DIG:FREQ 2.5e9')\n",
    "\n",
    "# Set DDC mode to complex\n",
    "resp = inst.send_scpi_cmd(':DIG:DDC:MODE COMP')\n",
    "print(resp)\n",
    "\n",
    "###########################################\n",
    "\n",
    "'''This makes sense only for mode COMPLEX'''\n",
    "# # Set center frequency of channel 1 to 100MHz  \n",
    "DDC_NCO = 1e9   # !!!!! use the frequency of you pulse here !!!!!\n",
    "inst.send_scpi_cmd(':DIG:DDC:CFR1 {0}'.format(DDC_NCO))\n",
    "\n",
    "###########################################\n",
    "\n",
    "resp = inst.send_scpi_query(':SYST:ERR?')\n",
    "print(resp)\n",
    "\n",
    "# Enable capturing data from channel 1\n",
    "inst.send_scpi_cmd(':DIG:CHAN:SEL 1')\n",
    "inst.send_scpi_cmd(':DIG:CHAN:STATE ENAB')\n",
    "\n",
    "# # Select the internal-trigger as start-capturing trigger:\n",
    "# inst.send_scpi_cmd(':DIG:TRIG:SOURCE CPU')  ###!!!!!!!!!!!!!!!!!!!!!!\n",
    "\n",
    "# Select the task trigger as start-capturing trigger:\n",
    "inst.send_scpi_cmd(':DIG:TRIG:SOURCE TASK1')  ###!!!!!!!!!!!!!!!!!!!!!!\n",
    "\n",
    "# Set Trigger AWG delay to 0\n",
    "# how long to wait for the acuisition after the trigger has triggered\n",
    "inst.send_scpi_cmd(':DIG:TRIG:AWG:TDEL {0}'.format(0))  ##!!!!!!!!!!!!!! Don't know if it should be like this\n",
    "\n",
    "resp = inst.send_scpi_query(':SYST:ERR?')\n",
    "print(resp)\n",
    "\n",
    "#################\n",
    "# # Enable capturing data from channel 2\n",
    "# inst.send_scpi_cmd(':DIG:CHAN:SEL 2')\n",
    "# inst.send_scpi_cmd(':DIG:CHAN:STATE ENAB')\n",
    "# # Select the internal-trigger as start-capturing trigger:\n",
    "# inst.send_scpi_cmd(':DIG:TRIG:SOURCE CPU')\n",
    "\n"
   ]
  },
  {
   "cell_type": "code",
   "execution_count": 350,
   "id": "51fb9f9a",
   "metadata": {},
   "outputs": [
    {
     "name": "stdout",
     "output_type": "stream",
     "text": [
      "0\n",
      "0, no error\n"
     ]
    }
   ],
   "source": [
    "# Allocate four frames of 4800 samples\n",
    "numframes, framelen = 1, 1*4800\n",
    "cmd = ':DIG:ACQuire:FRAM:DEF {0},{1}'.format(numframes, framelen)\n",
    "inst.send_scpi_cmd(cmd)\n",
    "\n",
    "# Select which frames are filled with captured data (all frames in this example)\n",
    "inst.send_scpi_cmd(':DIG:ACQ:FRAM:CAPT:ALL');\n",
    "\n",
    "# clean memory\n",
    "inst.send_scpi_cmd(':DIG:ACQ:ZERO:ALL')\n",
    "\n",
    "resp = inst.send_scpi_cmd(':DIG:DATA:FORM?')\n",
    "print (resp)\n",
    "\n",
    "# Select the frames for the capturing \n",
    "# (all the four frames in this example)\n",
    "# !!!!only if you want to be picky about which frames to capture or not!!!\n",
    "# capture_first, capture_count = 1, numframes\n",
    "# cmd = ':DIG:ACQuire:FRAM:CAPT {0},{1}'.format(capture_first, capture_count)\n",
    "# inst.send_scpi_cmd(cmd)\n",
    "\n",
    "\n",
    "resp = inst.send_scpi_query(':SYST:ERR?')\n",
    "print(resp)\n",
    "\n",
    "# resp = inst.send_scpi_query(':DIG:DDC:DEC?')  # try with this whe\n",
    "# print(resp)"
   ]
  },
  {
   "cell_type": "markdown",
   "id": "44a381d0-dc51-4615-b33e-d3e6d56e4c87",
   "metadata": {},
   "source": [
    "# DSP Setup"
   ]
  },
  {
   "cell_type": "code",
   "execution_count": 351,
   "id": "722a3ecb-b1f0-41ac-b268-684c584e98bb",
   "metadata": {},
   "outputs": [],
   "source": [
    "# # Select to store the IQ data\n",
    "# inst.send_scpi_cmd(':DSP:STOR1 DIRect1')\n",
    "# resp = inst.send_scpi_query(':SYST:ERR?')\n",
    "# print(resp)\n",
    "\n",
    "# # Set IQ PATH Input to AMPH\n",
    "# inst.send_scpi_cmd(':DSP:DEC:IQP:SEL 1')\n",
    "# resp = inst.send_scpi_query(':SYST:ERR?')\n",
    "# print(resp)\n",
    "\n",
    "# inst.send_scpi_cmd(':DSP:DEC:IQP:INP AMPH')\n",
    "# resp = inst.send_scpi_query(':SYST:ERR?')\n",
    "# print(resp)\n",
    "\n",
    "# # Set Decision frame size 50 points\n",
    "# inst.send_scpi_cmd(':DSP:DEC:FRAM {0}'.format(50))\n",
    "# resp = inst.send_scpi_query(':SYST:ERR?')\n",
    "# print(resp)"
   ]
  },
  {
   "cell_type": "code",
   "execution_count": 352,
   "id": "ed8bafbc",
   "metadata": {},
   "outputs": [
    {
     "name": "stdout",
     "output_type": "stream",
     "text": [
      "Response: 1,1,0,1 Time: 0.01\n",
      "0, no error\n"
     ]
    }
   ],
   "source": [
    "# # Clean memory \n",
    "# inst.send_scpi_cmd(':DIG:ACQ:ZERO:ALL')  ## !!!! try with and without this, when everything is running OK\n",
    "# time.sleep(1)\n",
    "\n",
    "# Stop the digitizer's capturing machine (to be on the safe side)\n",
    "inst.send_scpi_cmd(':DIG:INIT OFF')\n",
    "time.sleep(0.1)\n",
    "# Start the digitizer's capturing machine ###################### START CAPTURE\n",
    "inst.send_scpi_cmd(':DIG:INIT ON')\n",
    "\n",
    "# Generate 4 software-triggers\n",
    "# for _ in range(capture_count):\n",
    "#     inst.send_scpi_cmd(':DIG:TRIG:IMM') # this command forces a trigger event for the digitizer when trigger source is set to CPU\n",
    "#     time.sleep(0.1) # more than  enough for capturing single frame\n",
    "#     # Query the status\n",
    "#     resp = inst.send_scpi_query(':DIG:ACQuire:FRAM:STATus?')\n",
    "#     print(resp)\n",
    "# print(\"Waiting to recive enter to generate trigger - press Enter to start trigger\")\n",
    "# input()\n",
    "\n",
    "# inst.send_scpi_cmd('*TRG')\n",
    "# resp = inst.send_scpi_query(':SYST:ERR?')\n",
    "# print(resp)\n",
    "# print()\n",
    "\n",
    "for i in range (1,100):\n",
    "    delta_t = 1/100\n",
    "    time.sleep(delta_t) # if we wait long enough time the machine captures a signal\n",
    "    resp = inst.send_scpi_query(':DIG:ACQuire:FRAM:STAT?')\n",
    "    if resp[6:] == '1':  # maybe 1 comes as a float, check it\n",
    "        print('Response:',resp, 'Time:',delta_t*i)\n",
    "        break\n",
    "\n",
    "# print('captured {0} frames'.format(resp[6:]))\n",
    "# print()\n",
    "\n",
    "##################Implement this\n",
    "\n",
    "#     for i=1:numOfChannels             \n",
    "#         % Select channel\n",
    "#         inst.SendScpi(sprintf(':DIG:CHAN %d', adChan(i)));\n",
    "#         %inst.SendCmd('*TRG');       \n",
    "#         for n = 1:250\n",
    "#             resp = inst.SendScpi(':DIG:ACQ:FRAM:STAT?');\n",
    "#             resp = strtrim(pfunc.netStrToStr(resp.RespStr));\n",
    "#             resp = strtrim(resp);\n",
    "#             items = split(resp, ',');\n",
    "#             items = str2double(items);\n",
    "#             if length(items) >= 3 && items(2) == 1\n",
    "#                 break\n",
    "#             end\n",
    "#             if mod(n, 10) == 0                \n",
    "#                 fprintf('%d. %s Time:\\n', fix(n / 10), resp);                                \n",
    "#             end\n",
    "#             pause(0.1);\n",
    "#         end          \n",
    "\n",
    "##################\n",
    "\n",
    "# Stop the digitizer's capturing machine (to be on the safe side) ################# STOP CAPTURE\n",
    "inst.send_scpi_cmd(':DIG:INIT OFF')\n",
    "\n",
    "resp = inst.send_scpi_query(':SYST:ERR?')\n",
    "print(resp)"
   ]
  },
  {
   "cell_type": "code",
   "execution_count": 353,
   "id": "a6d7093f",
   "metadata": {},
   "outputs": [
    {
     "name": "stdout",
     "output_type": "stream",
     "text": [
      "Total size in bytes: 19200\n",
      "\n",
      "0, no error\n"
     ]
    }
   ],
   "source": [
    "# Choose what to read \n",
    "# (only the frame-data without the header in this example)\n",
    "inst.send_scpi_cmd(':DIG:DATA:TYPE FRAM')\n",
    "\n",
    "# Choose which frames to read (all in this example)\n",
    "inst.send_scpi_cmd(':DIG:DATA:SEL ALL')\n",
    "\n",
    "# Get the total data size (in bytes)\n",
    "resp = inst.send_scpi_query(':DIG:DATA:SIZE?')\n",
    "num_bytes = np.uint32(resp)\n",
    "print('Total size in bytes: ' + resp)\n",
    "print()\n",
    "\n",
    "# Read the data that was captured by channel 1:\n",
    "inst.send_scpi_cmd(':DIG:CHAN:SEL 1')\n",
    "\n",
    "#wavlen = num_bytes // 2\n",
    "wavlen = num_bytes // 4  # for the DUC mode !!!!!\n",
    "\n",
    "#wav1 = np.zeros(wavlen, dtype=np.uint16)\n",
    "wav1 = np.zeros(wavlen, dtype=np.uint32) # for the DUC mode !!!!!\n",
    "\n",
    "rc = inst.read_binary_data(':DIG:DATA:READ?', wav1, num_bytes)\n",
    "\n",
    "# # Read the data that was captured by channel 2:\n",
    "# inst.send_scpi_cmd(':DIG:CHAN:SEL 2')\n",
    "\n",
    "# wav2 = np.zeros(wavlen, dtype=np.uint16)\n",
    "# rc = inst.read_binary_data(':DIG:DATA:READ?', wav2, num_bytes)\n",
    "\n",
    "resp = inst.send_scpi_query(':SYST:ERR?')\n",
    "print(resp)"
   ]
  },
  {
   "cell_type": "code",
   "execution_count": 354,
   "id": "8d02fbe6-5534-4949-b725-3f3329b07f87",
   "metadata": {},
   "outputs": [
    {
     "data": {
      "text/plain": [
       "[<matplotlib.lines.Line2D at 0x112015027f0>,\n",
       " <matplotlib.lines.Line2D at 0x11201502910>]"
      ]
     },
     "execution_count": 354,
     "metadata": {},
     "output_type": "execute_result"
    },
    {
     "data": {
      "image/png": "[encoded data removed]",
      "text/plain": [
       "<Figure size 432x288 with 1 Axes>"
      ]
     },
     "metadata": {
      "needs_background": "light"
     },
     "output_type": "display_data"
    }
   ],
   "source": [
    "# Plot the samples\n",
    "totlen = int(numframes * framelen /2)\n",
    "x = range(totlen)\n",
    "\n",
    "wave_i = np.zeros(totlen, dtype=np.uint16)\n",
    "wave_q = np.zeros(totlen, dtype=np.uint16)\n",
    "\n",
    "wave_i = wav1[::2]\n",
    "wave_q = wav1[1::2]\n",
    "\n",
    "plt.plot(x, wave_i, '-',x, wave_q, '-')"
   ]
  },
  {
   "cell_type": "code",
   "execution_count": 355,
   "id": "1e642a55",
   "metadata": {},
   "outputs": [
    {
     "data": {
      "text/plain": [
       "2400"
      ]
     },
     "execution_count": 355,
     "metadata": {},
     "output_type": "execute_result"
    }
   ],
   "source": [
    "len(wave_i)"
   ]
  },
  {
   "cell_type": "code",
   "execution_count": 346,
   "id": "f34fb5cf-2f14-4f1b-bc11-e9f12f331a00",
   "metadata": {},
   "outputs": [
    {
     "data": {
      "text/plain": [
       "4800"
      ]
     },
     "execution_count": 346,
     "metadata": {},
     "output_type": "execute_result"
    }
   ],
   "source": [
    "len(wav1)"
   ]
  },
  {
   "cell_type": "code",
   "execution_count": 348,
   "id": "fa3f0d24",
   "metadata": {},
   "outputs": [
    {
     "data": {
      "text/plain": [
       "[<matplotlib.lines.Line2D at 0x11201494100>]"
      ]
     },
     "execution_count": 348,
     "metadata": {},
     "output_type": "execute_result"
    },
    {
     "data": {
      "image/png": "[encoded data removed]",
      "text/plain": [
       "<Figure size 432x288 with 1 Axes>"
      ]
     },
     "metadata": {
      "needs_background": "light"
     },
     "output_type": "display_data"
    }
   ],
   "source": [
    "plt.plot(wav1[0:100])"
   ]
  },
  {
   "cell_type": "code",
   "execution_count": 357,
   "id": "e7ac0aeb",
   "metadata": {},
   "outputs": [],
   "source": [
    "#########################################"
   ]
  },
  {
   "cell_type": "code",
   "execution_count": 11,
   "id": "33de3c92-bc83-4b33-8b57-51ba00c6e36a",
   "metadata": {},
   "outputs": [
    {
     "data": {
      "text/plain": [
       "0"
      ]
     },
     "execution_count": 11,
     "metadata": {},
     "output_type": "execute_result"
    }
   ],
   "source": [
    "admin = TepAdmin()  ### decalring a shortcut to send SCPY commands to the machine\n",
    "inst = admin.open_instrument(slot_id=sid)  ### decalring a shortcut to send SCPY commands to the machine\n",
    "\n",
    "inst.close_instrument()\n",
    "admin.close_inst_admin()\n",
    "\n",
    "# ml.quitter(sid)"
   ]
  },
  {
   "cell_type": "code",
   "execution_count": null,
   "id": "617bf42a-cb41-4144-a9d8-936c83a59fde",
   "metadata": {},
   "outputs": [],
   "source": []
  }
 ],
 "metadata": {
  "kernelspec": {
   "display_name": "Python 3 (ipykernel)",
   "language": "python",
   "name": "python3"
  },
  "language_info": {
   "codemirror_mode": {
    "name": "ipython",
    "version": 3
   },
   "file_extension": ".py",
   "mimetype": "text/x-python",
   "name": "python",
   "nbconvert_exporter": "python",
   "pygments_lexer": "ipython3",
   "version": "3.8.13"
  }
 },
 "nbformat": 4,
 "nbformat_minor": 5
}
