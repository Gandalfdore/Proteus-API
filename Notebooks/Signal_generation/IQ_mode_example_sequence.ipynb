{
 "cells": [
  {
   "cell_type": "markdown",
   "id": "ce556bc5-f4b2-4176-a30e-09934a18af1e",
   "metadata": {},
   "source": [
    "# Example for use IQ modulation/demodulation and digitizer"
   ]
  },
  {
   "cell_type": "markdown",
   "id": "1a99c564-7154-4923-95f8-3d380b5db4e0",
   "metadata": {},
   "source": [
    "## Test IQ with a sequence of pulses (gaussian + wait_time + readout)"
   ]
  },
  {
   "cell_type": "markdown",
   "id": "b84e9850-764f-4d13-946d-c4f54cb85c7d",
   "metadata": {},
   "source": [
    "### Author\n",
    "\n",
    "Boris Nedyalkov, Quantum Computing Lab, IFAE, Barcelona"
   ]
  },
  {
   "cell_type": "markdown",
   "id": "f6da5fc5-ddaf-4929-b468-9dabc7260ebf",
   "metadata": {},
   "source": [
    "#### **In this notebook you will learn how to:**\n",
    "\n",
    "* Import all the libraries one needs\n",
    "* Set the working parameters of the machine\n",
    "* Initialize the machine\n",
    "* Create simple sequences of I and Q signals\n",
    "* Download the signals to the Proteus\n",
    "* Create a tasktable (sequences of pulses with triggers)\n",
    "* Readout the signal\n",
    "* Process the signal readout data"
   ]
  },
  {
   "cell_type": "markdown",
   "id": "abc6d9ec-e0c0-46bf-a073-b464dc8b29a6",
   "metadata": {},
   "source": [
    "### Import some generic libraries"
   ]
  },
  {
   "cell_type": "code",
   "execution_count": 13,
   "id": "37c49ddb-92d4-43f0-8152-d3301f3781f3",
   "metadata": {},
   "outputs": [],
   "source": [
    "import numpy as np\n",
    "import matplotlib.pyplot as plt\n",
    "import sys\n",
    "import time\n",
    "import os\n",
    "\n",
    "srcpath = os.path.realpath('../../SourceFiles')\n",
    "sys.path.append(srcpath)\n",
    "\n",
    "# These are the Tabor developers' libraries, they allow us to I/O interface with the Proteus\n",
    "from teproteus import TEProteusAdmin as TepAdmin\n",
    "from teproteus import TEProteusInst as TepInst"
   ]
  },
  {
   "cell_type": "markdown",
   "id": "efb28194-eef3-4121-ab43-c5f19b97af91",
   "metadata": {},
   "source": [
    "### Import our homemade libraries"
   ]
  },
  {
   "cell_type": "code",
   "execution_count": 14,
   "id": "19df99fe-7a50-42b5-abf2-1e9fab726695",
   "metadata": {},
   "outputs": [],
   "source": [
    "import initializers  # this library contains intialization functions for the Proteus \n",
    "\n",
    "import pulse_lib # this library contains all the types of pulses, one can add here a new type of pulse if needed\n",
    "import tasks # this library contains all the types of basic tasks, new ones can be added if need arises\n",
    "import readers # this library contains all the readout functions\n",
    "\n",
    "import helpers # this library contains auxillary functions"
   ]
  },
  {
   "cell_type": "markdown",
   "id": "d3182494-1074-4bb2-aa30-038374d3ed5e",
   "metadata": {},
   "source": [
    "### Set the parameters of the machine"
   ]
  },
  {
   "cell_type": "code",
   "execution_count": 15,
   "id": "026e92e3-aaff-4001-a104-31eb9a45d9bc",
   "metadata": {},
   "outputs": [],
   "source": [
    "SCLK = 2.25e9 # sampling clock rate of the generator (AWG) ## max value 9e9\n",
    "DUC_INTERP = 1  ### the DUC interpolator mode\n",
    "DIG_SCLK = 2.25e9 # sampling clock rate of the digitizer (DAC) ## max value 2.7e9\n",
    "\n",
    "SOURCE_NCO = 1e7   # The LO of the source/modulator\n",
    "DDC_NCO = 1e7 # The LO of the demodulator (make ideally the same as Source NCO)"
   ]
  },
  {
   "cell_type": "markdown",
   "id": "887d1996-6d77-4e2a-8758-b5c4ac845714",
   "metadata": {},
   "source": [
    "### Initialize the machine"
   ]
  },
  {
   "cell_type": "code",
   "execution_count": 16,
   "id": "e1983c6c-0306-4dc9-b9b4-f3f7c18e1d2e",
   "metadata": {},
   "outputs": [
    {
     "name": "stdout",
     "output_type": "stream",
     "text": [
      "\n",
      "=========CONNECTING=========\n",
      "process id 7796\n",
      "Connected to: Tabor Electronics,P2582M,000000000000,0.0.0\n",
      "Model: P2582M\n",
      "===CONNECTION ESTABLISHED===\n",
      "============================\n",
      "\n",
      "===SYSTEM'S INFORMATION===\n",
      "DAC waveform format: 16 bits-per-point\n",
      "Max DAC wave-point level: 65535\n",
      "Half DAC wave-point level: 32767.0\n",
      "Number of channels: 2\n",
      "Max segment number: 65536\n",
      "Available memory per DDR: 1,065,353,216 wave-bytes\n",
      "==========READY============\n",
      "===========================\n"
     ]
    }
   ],
   "source": [
    "# get the DAC mode, range, Serial port #, the data type of the system (8 or 16bit), and the instrument handle\n",
    "dac_mode, max_dac, sid, data_type, inst = initializers.connection_func() # Make sure the Model name is P9484M, that the name of our module"
   ]
  },
  {
   "cell_type": "markdown",
   "id": "2a9281e5-89d5-4072-ac27-686e1950a61e",
   "metadata": {},
   "source": [
    "### Initialize the channels"
   ]
  },
  {
   "cell_type": "code",
   "execution_count": 17,
   "id": "4c32681c-2405-470c-90b4-cd2acbca65fd",
   "metadata": {},
   "outputs": [
    {
     "name": "stderr",
     "output_type": "stream",
     "text": [
      "C:\\Users\\QCTlab\\Documents\\GitHub\\Proteus-drivers\\SourceFiles\\teproteus.py:840: UserWarning: CMD: \"*CLS; *RST\", SYST:ERR: 211, assertion failed\n",
      "  warnings.warn(wrnmsg)\n"
     ]
    },
    {
     "name": "stdout",
     "output_type": "stream",
     "text": [
      "\n",
      "===INITIALIZATION OF CHANNEL 1===  -->  ===DONE===\n",
      "ERRORS: 0, no error\n"
     ]
    }
   ],
   "source": [
    "# initialize channel 1\n",
    "channel_numb = 1\n",
    "initializers.initialization_func(channel_numb, inst, SCLK)\n",
    "\n",
    "# # initialize all the channels\n",
    "# for i in range(0,4):  \n",
    "#     channel_numb = i + 1\n",
    "#     initializers.initialization_func(channel_numb, inst, SCLK) "
   ]
  },
  {
   "cell_type": "markdown",
   "id": "0070498e-93e1-4b70-9736-ae82398666e6",
   "metadata": {},
   "source": [
    "### Call the pulse library"
   ]
  },
  {
   "cell_type": "code",
   "execution_count": 18,
   "id": "cb98494b-4f42-42f9-bd57-5e04422b3c82",
   "metadata": {},
   "outputs": [],
   "source": [
    "pulse = pulse_lib.Pulse(SCLK, DUC_INTERP, show_plot = True)"
   ]
  },
  {
   "cell_type": "markdown",
   "id": "17b6e98f-a988-4104-91f2-81781731091f",
   "metadata": {},
   "source": [
    "## Test IQ with a sequence of pulses (gaussian + wait_time + readout)"
   ]
  },
  {
   "cell_type": "code",
   "execution_count": 19,
   "id": "d2091051-d88b-467d-af44-e9dceb32279b",
   "metadata": {},
   "outputs": [
    {
     "name": "stdout",
     "output_type": "stream",
     "text": [
      "1125\n",
      "The blank singnal is with time width: 3e-06 [sec]\n",
      "\n",
      "The blank singnal is with segment length: 6750.0\n",
      "2 of datasegments given.\n",
      "\n",
      "Concatonating the datasegments...\n",
      "The length of the new dataset is: 7875\n",
      "2 of datasegments given.\n",
      "\n",
      "Concatonating the datasegments...\n",
      "The length of the new dataset is: 7875\n",
      "\n",
      "Time before readout is 3.5e-06 sec\n",
      "period = 1000.0[ns]\n",
      "readout pulse segement length = 22950 datapoints\n",
      "\n",
      "readout pulse segement length (in time) = 10200.0 [ns]]\n",
      "sin: 22950 readout_signal: 22950\n",
      "Signal frequency = 1.0[Mhz]\n",
      "\n",
      "Time for readout is 1.02e-05 sec\n",
      "2 of datasegments given.\n",
      "\n",
      "Concatonating the datasegments...\n",
      "The length of the new dataset is: 30825\n",
      "2 of datasegments given.\n",
      "\n",
      "Concatonating the datasegments...\n",
      "The length of the new dataset is: 30825\n",
      "The blank singnal is with time width: 1e-05 [sec]\n",
      "\n",
      "The blank singnal is with segment length: 22500.000000000004\n",
      "\n",
      "Segment length was not an integer number, thus it will be rounded to the closest integer.\n",
      "\n",
      "The closest time width that the format allows is 9.999999999999999e-06 sec\n",
      "2 of datasegments given.\n",
      "\n",
      "Concatonating the datasegments...\n",
      "The length of the new dataset is: 53325\n",
      "2 of datasegments given.\n",
      "\n",
      "Concatonating the datasegments...\n",
      "The length of the new dataset is: 53325\n",
      "2 of datasegments given.\n",
      "\n",
      "Concatonating the datasegments...\n",
      "The length of the new dataset is: 53376\n",
      "2 of datasegments given.\n",
      "\n",
      "Concatonating the datasegments...\n",
      "The length of the new dataset is: 53376\n"
     ]
    },
    {
     "data": {
      "image/png": "[encoded data removed]",
      "text/plain": [
       "<Figure size 432x288 with 1 Axes>"
      ]
     },
     "metadata": {
      "needs_background": "light"
     },
     "output_type": "display_data"
    }
   ],
   "source": [
    "# Choose signals\n",
    "\n",
    "# Some pulse\n",
    "IF_frequency = 10e9 # in Hz\n",
    "amplitude = 1\n",
    "sigma = 1e-7 # in seconds\n",
    "width = 5*sigma # in seconds\n",
    "beta = 1e-6\n",
    "I_to_Q_ratio = 1.0\n",
    "pulse1_i, pulse1_q  = pulse.gaussian_I_Q_with_IF(IF_frequency, amplitude, width, sigma, beta, I_to_Q_ratio)[0:2]\n",
    "\n",
    "# Some time delay\n",
    "time_delay = 3e-6 # time delay in seconds\n",
    "time_delay_pulse1 = pulse.blank_signal_arbitrary(time_delay)\n",
    "\n",
    "# Signal compiler\n",
    "final_pulse_i = helpers.concatenator(pulse1_i, time_delay_pulse1)\n",
    "final_pulse_q = helpers.concatenator(pulse1_q, time_delay_pulse1)\n",
    "\n",
    "time_before_readout = len(final_pulse_i)/SCLK # time for the sequence to complete\n",
    "print (\"\\nTime before readout is {0} sec\".format(time_before_readout))\n",
    "\n",
    "# Readout pulse\n",
    "amplitude = 1\n",
    "width_slope = 100e-9 # in sec\n",
    "width_plateau = 10e-6 # in sec\n",
    "frequency = 1e6 # some dummy frequency\n",
    "# here we assume that the local oscillator (NCO) is set at the frequency of the readout resonator, thus we just use envelope (IF=0)\n",
    "readout_pulse = pulse.readout_pulse(amplitude, width_slope, width_plateau, frequency)[2] # this instance creates 3 arrays, only the last is the envelop\n",
    "\n",
    "readout_time = len(readout_pulse)/SCLK # time for the readout to complete\n",
    "print (\"\\nTime for readout is {0} sec\".format(readout_time))\n",
    "\n",
    "# Add the readout pulse\n",
    "final_pulse_i = helpers.concatenator(final_pulse_i, readout_pulse)\n",
    "final_pulse_q = helpers.concatenator(final_pulse_q, readout_pulse*0)\n",
    "\n",
    "# Add cooldown time (to allow for complete qubit relaxation)\n",
    "cooldown_time = 10e-6 # cooldown time in sec\n",
    "cooldown_space = pulse.blank_signal_arbitrary(cooldown_time)\n",
    "\n",
    "final_pulse_i = helpers.concatenator(final_pulse_i, cooldown_space)\n",
    "final_pulse_q = helpers.concatenator(final_pulse_q, cooldown_space)\n",
    "\n",
    "# Add remnant (to have the apprpriate format number of bits, to feed to the proteus memory)\n",
    "remnant_length = helpers.formatter_for_sequences(len(final_pulse_i))\n",
    "remnant = np.linspace(0, 0, remnant_length)\n",
    "\n",
    "final_pulse_i = helpers.concatenator(final_pulse_i, remnant)\n",
    "final_pulse_q = helpers.concatenator(final_pulse_q, remnant)"
   ]
  },
  {
   "cell_type": "code",
   "execution_count": 20,
   "id": "5652d2a3-5257-4f2b-ac90-499850c44167",
   "metadata": {},
   "outputs": [
    {
     "data": {
      "text/plain": [
       "[<matplotlib.lines.Line2D at 0x1e0fe4b6fd0>]"
      ]
     },
     "execution_count": 20,
     "metadata": {},
     "output_type": "execute_result"
    },
    {
     "data": {
      "image/png": "[encoded data removed]",
      "text/plain": [
       "<Figure size 432x288 with 1 Axes>"
      ]
     },
     "metadata": {
      "needs_background": "light"
     },
     "output_type": "display_data"
    }
   ],
   "source": [
    "plt.plot(final_pulse_i)"
   ]
  },
  {
   "cell_type": "code",
   "execution_count": 21,
   "id": "4886b400-9375-41c1-9cc4-e66e3be1d54c",
   "metadata": {},
   "outputs": [
    {
     "data": {
      "text/plain": [
       "[<matplotlib.lines.Line2D at 0x1e0fd44c9a0>]"
      ]
     },
     "execution_count": 21,
     "metadata": {},
     "output_type": "execute_result"
    },
    {
     "data": {
      "image/png": "[encoded data removed]",
      "text/plain": [
       "<Figure size 432x288 with 1 Axes>"
      ]
     },
     "metadata": {
      "needs_background": "light"
     },
     "output_type": "display_data"
    }
   ],
   "source": [
    "plt.plot(final_pulse_q)"
   ]
  },
  {
   "cell_type": "markdown",
   "id": "0c4646e8-2094-480b-8d31-a440e418f668",
   "metadata": {},
   "source": [
    "### Downloading some wave shapes onto the Proteus"
   ]
  },
  {
   "cell_type": "code",
   "execution_count": 22,
   "id": "f39d9481-4043-4157-9123-5320c406f28d",
   "metadata": {},
   "outputs": [],
   "source": [
    "I = final_pulse_i\n",
    "Q = final_pulse_q\n",
    "\n",
    "inter_array = np.empty(len(I) + len(Q))\n",
    "for i in range(0, len(I)):\n",
    "    inter_array[0+i*2] = I[i]\n",
    "    inter_array[1+i*2] = Q[i]\n",
    "    \n",
    "inter_array = helpers.digital_conv_func(inter_array, max_dac, data_type)\n",
    "\n",
    "wave1 = inter_array"
   ]
  },
  {
   "cell_type": "code",
   "execution_count": 23,
   "id": "248967d3-cc6f-4ccd-9d7a-5597b9d90c37",
   "metadata": {},
   "outputs": [],
   "source": [
    "# # initialize the channel\n",
    "# channel_numb = 1\n",
    "# initializers.initialization_func(channel_numb, inst, SCLK)"
   ]
  },
  {
   "cell_type": "code",
   "execution_count": 37,
   "id": "9c00bd74-57a3-49e8-81b0-067177dc1d1a",
   "metadata": {},
   "outputs": [],
   "source": [
    "initializers.initialization_func_IQ(channel_numb, inst, SCLK, SOURCE_NCO)"
   ]
  },
  {
   "cell_type": "markdown",
   "id": "c7205168-ffda-4c2e-bb1d-43c0bb93435e",
   "metadata": {},
   "source": [
    "@ When we download the signal onto the proteus we choose a segment number to assign to it, by this number we will refer to the signal later."
   ]
  },
  {
   "cell_type": "code",
   "execution_count": 38,
   "id": "a2ac794c-3f26-4fcb-bb98-1bc51e4e9b77",
   "metadata": {},
   "outputs": [
    {
     "name": "stdout",
     "output_type": "stream",
     "text": [
      "wave size: 106752\n",
      "0, no error\n"
     ]
    }
   ],
   "source": [
    "# download signal to an approprate 'channel' and 'segment of the channel'\n",
    "helpers.download_func (inst, wave1, channel = 1, segment = 1)"
   ]
  },
  {
   "cell_type": "markdown",
   "id": "5f70e146-f8a0-44b6-b7cb-e23551f6ac9d",
   "metadata": {},
   "source": [
    "### Let us now define a tasktable (as sequence of pulses and actions)"
   ]
  },
  {
   "cell_type": "code",
   "execution_count": 39,
   "id": "392a7913-6267-414f-8cfc-4d7dac21a0e8",
   "metadata": {},
   "outputs": [],
   "source": [
    "task = tasks.Task(inst)"
   ]
  },
  {
   "cell_type": "code",
   "execution_count": 42,
   "id": "a85ad8c0-9eca-494f-8fa5-9eed05542238",
   "metadata": {},
   "outputs": [
    {
     "name": "stdout",
     "output_type": "stream",
     "text": [
      "Downloading Task table to channel 1\n",
      "0, no error\n",
      "0, no error\n"
     ]
    }
   ],
   "source": [
    "channel = 1\n",
    "segment_number = 1\n",
    "\n",
    "# this task table makes: 1 trigger, followed by one pulse\n",
    "# the trigger is used to signal to the digitizer when to start capturing data\n",
    "task.solid_task(inst, channel, segment_number)\n",
    "helpers.start_task(inst, channel)"
   ]
  },
  {
   "cell_type": "code",
   "execution_count": 43,
   "id": "115fd7c2",
   "metadata": {},
   "outputs": [
    {
     "name": "stdout",
     "output_type": "stream",
     "text": [
      "0, no error\n",
      "0\n",
      "0\n",
      "\n",
      "0, no error\n",
      "0, no error\n",
      "0, no error\n"
     ]
    }
   ],
   "source": [
    "# in case we need some time delay b/w the trigger and the start of data capturing \n",
    "time_delay=0\n",
    "readers.digitizer_setup(inst, DIG_SCLK, DDC_NCO, time_delay)"
   ]
  },
  {
   "cell_type": "code",
   "execution_count": 44,
   "id": "51fb9f9a",
   "metadata": {},
   "outputs": [
    {
     "name": "stdout",
     "output_type": "stream",
     "text": [
      "0\n",
      "0, no error\n",
      "X16\n"
     ]
    }
   ],
   "source": [
    "# define the number of frames and their length in data points for the capture of the signal\n",
    "# here we will just use one frame\n",
    "# but for 1000 separate measurments, one may want to use 1000 frames\n",
    "numframes, framelen = 1, 100*4800\n",
    "readers.framer(inst, numframes, framelen)"
   ]
  },
  {
   "cell_type": "markdown",
   "id": "44a381d0-dc51-4615-b33e-d3e6d56e4c87",
   "metadata": {},
   "source": [
    "# DSP Setup"
   ]
  },
  {
   "cell_type": "markdown",
   "id": "b2776af5-aa24-4c3b-a822-f829c84e2858",
   "metadata": {},
   "source": [
    "This is yet to be implemented (ask Joan about it)"
   ]
  },
  {
   "cell_type": "code",
   "execution_count": 45,
   "id": "722a3ecb-b1f0-41ac-b268-684c584e98bb",
   "metadata": {},
   "outputs": [],
   "source": [
    "# # Select to store the IQ data\n",
    "# inst.send_scpi_cmd(':DSP:STOR1 DIRect1')\n",
    "# resp = inst.send_scpi_query(':SYST:ERR?')\n",
    "# print(resp)\n",
    "\n",
    "# # Set IQ PATH Input to AMPH\n",
    "# inst.send_scpi_cmd(':DSP:DEC:IQP:SEL 1')\n",
    "# resp = inst.send_scpi_query(':SYST:ERR?')\n",
    "# print(resp)\n",
    "\n",
    "# inst.send_scpi_cmd(':DSP:DEC:IQP:INP AMPH')\n",
    "# resp = inst.send_scpi_query(':SYST:ERR?')\n",
    "# print(resp)\n",
    "\n",
    "# # Set Decision frame size 50 points\n",
    "# inst.send_scpi_cmd(':DSP:DEC:FRAM {0}'.format(50))\n",
    "# resp = inst.send_scpi_query(':SYST:ERR?')\n",
    "# print(resp)"
   ]
  },
  {
   "cell_type": "code",
   "execution_count": 46,
   "id": "ed8bafbc",
   "metadata": {},
   "outputs": [
    {
     "name": "stdout",
     "output_type": "stream",
     "text": [
      "0, no error\n"
     ]
    }
   ],
   "source": [
    "# here we read the data on the INPUT of the devices and store it\n",
    "readers.capturer(inst)"
   ]
  },
  {
   "cell_type": "code",
   "execution_count": 47,
   "id": "0abda63b-56f4-415e-8bd8-3e1de530f89c",
   "metadata": {},
   "outputs": [
    {
     "name": "stdout",
     "output_type": "stream",
     "text": [
      "Total size in bytes: 192000\n",
      "\n",
      "0, no error\n"
     ]
    }
   ],
   "source": [
    "# get the I and Q component of the signal\n",
    "wave_i, wave_q = readers.IQ_data_extractor(inst, channel, numframes, framelen)"
   ]
  },
  {
   "cell_type": "code",
   "execution_count": 48,
   "id": "0de369ef-c464-47ff-a1cf-a66ef5712644",
   "metadata": {},
   "outputs": [
    {
     "data": {
      "text/plain": [
       "array([-16384, -16384, -16384, ..., -16384, -16384, -16384])"
      ]
     },
     "execution_count": 48,
     "metadata": {},
     "output_type": "execute_result"
    }
   ],
   "source": [
    "wave_i"
   ]
  },
  {
   "cell_type": "code",
   "execution_count": 52,
   "id": "fa3f0d24",
   "metadata": {},
   "outputs": [
    {
     "data": {
      "text/plain": [
       "[<matplotlib.lines.Line2D at 0x1e0ff9b2cd0>,\n",
       " <matplotlib.lines.Line2D at 0x1e0ff9b2df0>]"
      ]
     },
     "execution_count": 52,
     "metadata": {},
     "output_type": "execute_result"
    },
    {
     "data": {
      "image/png": "[encoded data removed]",
      "text/plain": [
       "<Figure size 432x288 with 1 Axes>"
      ]
     },
     "metadata": {
      "needs_background": "light"
     },
     "output_type": "display_data"
    }
   ],
   "source": [
    "plt.plot(wave_i[0:20000], '-', wave_q[0:20000], '-')"
   ]
  },
  {
   "cell_type": "code",
   "execution_count": 53,
   "id": "e7ac0aeb",
   "metadata": {},
   "outputs": [],
   "source": [
    "#########################################"
   ]
  },
  {
   "cell_type": "code",
   "execution_count": null,
   "id": "69b90594-2c70-4cc1-8c20-d13f42f7e6a4",
   "metadata": {},
   "outputs": [],
   "source": []
  },
  {
   "cell_type": "code",
   "execution_count": 54,
   "id": "a93cf1e1-e088-4e1e-8ee8-5e355b2fe57a",
   "metadata": {},
   "outputs": [
    {
     "data": {
      "text/plain": [
       "[<matplotlib.lines.Line2D at 0x1e0ffa50130>]"
      ]
     },
     "execution_count": 54,
     "metadata": {},
     "output_type": "execute_result"
    },
    {
     "data": {
      "image/png": "[encoded data removed]",
      "text/plain": [
       "<Figure size 432x288 with 1 Axes>"
      ]
     },
     "metadata": {
      "needs_background": "light"
     },
     "output_type": "display_data"
    }
   ],
   "source": [
    "plt.plot (wave_i, wave_q)"
   ]
  },
  {
   "cell_type": "markdown",
   "id": "6d50d4e4-72a9-4f84-a97e-4ed8ef56831b",
   "metadata": {},
   "source": [
    "### Sequence to close the instrument"
   ]
  },
  {
   "cell_type": "code",
   "execution_count": null,
   "id": "77f444e4-9429-4da7-8db5-9d6c52d52494",
   "metadata": {},
   "outputs": [],
   "source": [
    "admin = TepAdmin()  ### decalring a shortcut to send SCPY commands to the machine\n",
    "inst = admin.open_instrument(slot_id=sid)  ### decalring a shortcut to send SCPY commands to the machine\n",
    "\n",
    "inst.close_instrument()\n",
    "admin.close_inst_admin()"
   ]
  },
  {
   "cell_type": "code",
   "execution_count": null,
   "id": "e8f55091-27d0-44a7-982e-ff748a7a8412",
   "metadata": {},
   "outputs": [],
   "source": []
  }
 ],
 "metadata": {
  "kernelspec": {
   "display_name": "Python 3 (ipykernel)",
   "language": "python",
   "name": "python3"
  },
  "language_info": {
   "codemirror_mode": {
    "name": "ipython",
    "version": 3
   },
   "file_extension": ".py",
   "mimetype": "text/x-python",
   "name": "python",
   "nbconvert_exporter": "python",
   "pygments_lexer": "ipython3",
   "version": "3.8.13"
  }
 },
 "nbformat": 4,
 "nbformat_minor": 5
}
