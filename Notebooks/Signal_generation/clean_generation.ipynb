{
 "cells": [
  {
   "cell_type": "markdown",
   "id": "b35f89b1-3535-4793-851b-4e3e4b07231f",
   "metadata": {},
   "source": [
    "# Simple generation of signals"
   ]
  },
  {
   "cell_type": "code",
   "execution_count": 1,
   "id": "43db9f1a",
   "metadata": {},
   "outputs": [],
   "source": [
    "%matplotlib notebook\n",
    "import numpy as np\n",
    "import matplotlib.pyplot as plt\n",
    "\n",
    "\n",
    "import gc\n",
    "import sys\n",
    "\n",
    "import os\n",
    "srcpath = os.path.realpath('../../SourceFiles')\n",
    "sys.path.append(srcpath)\n",
    "\n",
    "#from teproteus import TEProteusAdmin, TEProteusInst\n",
    "#from tevisainst import TEVisaInst\n",
    "from teproteus import TEProteusAdmin as TepAdmin\n",
    "from teproteus import TEProteusInst as TepInst\n",
    "\n",
    "import mylib as ml\n",
    "\n",
    "####\n",
    "import time\n",
    "import math\n",
    "import ipywidgets as widgets\n",
    "# from scipy import signal"
   ]
  },
  {
   "cell_type": "markdown",
   "id": "740934d5-59bb-4fb1-9006-fcc10020ea82",
   "metadata": {},
   "source": [
    "# Parameters of the signal generator (DAC)"
   ]
  },
  {
   "cell_type": "code",
   "execution_count": 2,
   "id": "22cb83c7",
   "metadata": {},
   "outputs": [],
   "source": [
    "SCLK = 2500e6  ### sampling clock\n",
    "DUC_INTERP = 1  ### the DUC mode"
   ]
  },
  {
   "cell_type": "markdown",
   "id": "585abeb9-3fb9-467c-8a73-543d6609fbe8",
   "metadata": {},
   "source": [
    "# Parameters of the digitizer (ADC)"
   ]
  },
  {
   "cell_type": "code",
   "execution_count": 10,
   "id": "06935651-c043-44f5-acfd-fd1339dc1452",
   "metadata": {},
   "outputs": [],
   "source": [
    "DIG_SCLK = 2700e6\n",
    "DUC_NCO = 1040e6 #MHz\n",
    "DDC_NCO = 240e6\n",
    "DUC_INTERP = 8"
   ]
  },
  {
   "cell_type": "code",
   "execution_count": 3,
   "id": "33942a2d",
   "metadata": {},
   "outputs": [],
   "source": [
    "# # Connect to instrument via PXI\n",
    "# admin = TepAdmin()   \n",
    "\n",
    "# # Get list of available PXI slots\n",
    "# slot_ids = admin.get_slot_ids()\n",
    "\n",
    "# # Assume that at least one slot was found\n",
    "# sid = slot_ids[0]  # this is the system ID, the port trough which we access the Proteus\n",
    "\n",
    "# # Open a single-slot instrument:\n",
    "# inst = admin.open_instrument(slot_id=sid)"
   ]
  },
  {
   "cell_type": "code",
   "execution_count": 4,
   "id": "c446a20f",
   "metadata": {},
   "outputs": [],
   "source": [
    "# def connection_func ():\n",
    "    \n",
    "#     print(\"\\n===CONNECTING===\")\n",
    "\n",
    "#         # Connect to instrument via PXI\n",
    "#     admin = TepAdmin()   \n",
    "\n",
    "#     # Get list of available PXI slots\n",
    "#     slot_ids = admin.get_slot_ids()\n",
    "\n",
    "#     # Assume that at least one slot was found\n",
    "#     sid = slot_ids[0]  # this is the system ID, the port trough which we access the Proteus\n",
    "\n",
    "#     # Open a single-slot instrument:\n",
    "#     inst = admin.open_instrument(slot_id=sid)\n",
    "\n",
    "#     # Get the instrument's *IDN\n",
    "#     resp = inst.send_scpi_query('*IDN?')\n",
    "#     print('Connected to: ' + resp)\n",
    "\n",
    "#     # Get the model name\n",
    "#     model = inst.send_scpi_query(\":SYST:iNF:MODel?\")\n",
    "#     print(\"Model: \" + model)\n",
    "\n",
    "#     # Infer the natural DAC waveform format\n",
    "#     if 'P9082' in model:\n",
    "#         dac_mode = 8\n",
    "#     else:\n",
    "#         dac_mode = 16\n",
    "#     print(\"DAC waveform format: {0} bits-per-point\".format(dac_mode))\n",
    "\n",
    "#     if dac_mode == 16:\n",
    "#         max_dac = 65535  # = (2**16 - 1)  ,because the momory slots are 16bit ones (have 16bit vertical resolution) \n",
    "#         data_type = np.uint16 \n",
    "#     else:\n",
    "#         max_dac = 255\n",
    "#         data_type = np.uint8 \n",
    "\n",
    "#     half_dac = max_dac / 2.0\n",
    "    \n",
    "#     print(\"===CONNECTION ESTABLISHED===\")\n",
    "    \n",
    "#     return dac_mode, max_dac, sid, data_type"
   ]
  },
  {
   "cell_type": "code",
   "execution_count": null,
   "id": "5f9643c9",
   "metadata": {},
   "outputs": [],
   "source": []
  },
  {
   "cell_type": "markdown",
   "id": "a54d6f99",
   "metadata": {},
   "source": [
    "# Connect to the instrument via PXI connection"
   ]
  },
  {
   "cell_type": "code",
   "execution_count": 5,
   "id": "09ba3da9",
   "metadata": {},
   "outputs": [
    {
     "name": "stdout",
     "output_type": "stream",
     "text": [
      "\n",
      "=========CONNECTING=========\n",
      "process id 18864\n",
      "Connected to: Tabor Electronics,P9484M,000000220642,1.118.0\n",
      "Model: P9484M\n",
      "===CONNECTION ESTABLISHED===\n",
      "============================\n",
      "\n",
      "===SYSTEM'S INFORMATION===\n",
      "DAC waveform format: 16 bits-per-point\n",
      "Max DAC wave-point level: 65535\n",
      "Half DAC wave-point level: 32767.0\n",
      "Number of channels: 4\n",
      "Max segment number: 65536\n",
      "Available memory per DDR: 8,581,545,984 wave-bytes\n",
      "==========READY============\n",
      "===========================\n"
     ]
    }
   ],
   "source": [
    "dac_mode, max_dac, sid, data_type = ml.connection_func() # get the DAC mode, range, Serial port # and the data type of the system (8 or 16bit)\n",
    "# ml.system_info_func(max_dac, sid)  # prints out some parameters of the system that might be of interest\n",
    "# Make sure the Model name is P9484M, that the name of our module"
   ]
  },
  {
   "cell_type": "markdown",
   "id": "fb94a0e0",
   "metadata": {},
   "source": [
    "# Initialize channels"
   ]
  },
  {
   "cell_type": "code",
   "execution_count": 6,
   "id": "be0199f2-f5ff-4afd-b3f3-b794d5a164b7",
   "metadata": {},
   "outputs": [],
   "source": [
    "admin = TepAdmin()\n",
    "inst = admin.open_instrument(slot_id=sid)"
   ]
  },
  {
   "cell_type": "code",
   "execution_count": 8,
   "id": "b2e622b4-660f-4964-b64c-81d224f22486",
   "metadata": {},
   "outputs": [
    {
     "data": {
      "text/plain": [
       "teproteus.TEProteusInst"
      ]
     },
     "execution_count": 8,
     "metadata": {},
     "output_type": "execute_result"
    }
   ],
   "source": [
    "type(inst)"
   ]
  },
  {
   "cell_type": "code",
   "execution_count": 9,
   "id": "afc23c6b",
   "metadata": {},
   "outputs": [
    {
     "name": "stdout",
     "output_type": "stream",
     "text": [
      "\n",
      "===INITIALIZATION OF CHANNEL 1===  -->  ===DONE===\n",
      "ERRORS: 0, no error\n",
      "\n",
      "===INITIALIZATION OF CHANNEL 3===  -->  ===DONE===\n",
      "ERRORS: 0, no error\n"
     ]
    }
   ],
   "source": [
    "channel_numb = 1\n",
    "ml.initialization_func(channel_numb, sid, SCLK)\n",
    "\n",
    "channel_numb = 3 ### there are only channels 1 and 3 accessable (easily), actually there are 4, of which two are masked and two are acecessable\n",
    "ml.initialization_func(channel_numb, sid, SCLK)"
   ]
  },
  {
   "cell_type": "markdown",
   "id": "f0e46bbc",
   "metadata": {},
   "source": [
    "# Define a Sinusoid and a Blank (0V) Pulse"
   ]
  },
  {
   "cell_type": "code",
   "execution_count": 10,
   "id": "e4117ea2",
   "metadata": {},
   "outputs": [
    {
     "name": "stdout",
     "output_type": "stream",
     "text": [
      "original seglen: 1000000.0\n",
      "formated seglen: 1000000\n"
     ]
    }
   ],
   "source": [
    "sin_f, sin_f_seglen = ml.sin_func (1000, 0, SCLK, show_plot = False)  ### creating a sinus shape\n",
    "blank, blank_seglen = ml.blank_func (SCLK)\n",
    "\n",
    "sin_f = ml.digital_conv_func(sin_f, max_dac, data_type) ### converting the signal from float format array to a binary format array\n",
    "blank = ml.digital_conv_func(blank, max_dac, data_type)"
   ]
  },
  {
   "cell_type": "markdown",
   "id": "52e7e33d",
   "metadata": {},
   "source": [
    "# Define a gaussian Pulse"
   ]
  },
  {
   "cell_type": "code",
   "execution_count": 11,
   "id": "a4e41894",
   "metadata": {},
   "outputs": [],
   "source": [
    "# def prepare_gaussian_pulse (sigma, width_over_sigma, frequency, SCLK, DUC_INTERP, max_dac, show_plot = True):\n",
    "    \n",
    "#     half_dac = max_dac / 2\n",
    "    \n",
    "# #     frequency *= 2.5\n",
    "\n",
    "#     SCLK = SCLK/2.5\n",
    "\n",
    "#     period = 1/frequency\n",
    "#     delta_t = 1/SCLK ### how much time between each two sequential signal points\n",
    "#     sigma_numerical = sigma/delta_t  ### how many datapoints between each two sequential signal points\n",
    "\n",
    "#     print (\"period = {0}[ns]\".format(period*1e9))\n",
    "#     print (\"sigma = {0}[ns]\".format(sigma*1e9))\n",
    "#     print (\"sigma_num = {0} datapoints \".format(sigma_numerical))\n",
    "\n",
    "#     width = width_over_sigma*sigma_numerical # time width of the gaussian pulse, the width of the pulse terminates at 5*sigma, this is made by convention, it can be change to be (arbitrary number*sigma)\n",
    "#     print (width_over_sigma, sigma_numerical, width)\n",
    "#     seglen_gauss = int(width)\n",
    "#     print(\"Gaussian Segement length = {0} datapoints\\n\".format(seglen_gauss))\n",
    "#     print(\"Gaussian Segement length (in time) = {0} [ns]]\".format(width_over_sigma*sigma*1e9))\n",
    "\n",
    "# ################# WARNINGS AND CHECKS #######################\n",
    "\n",
    "#     if 5*period > sigma:\n",
    "#         print (\"\\n!WARNING! Sigma is comparable to the period of the oscillation\\n\")\n",
    "    \n",
    "#     seglen_gauss, normalization_factor = ml.formatter(seglen_gauss)\n",
    "\n",
    "# #     seglen_gauss_old = seglen_gauss\n",
    "# #     n = -32.0 + seglen_gauss/64.\n",
    "    \n",
    "# #     if seglen_gauss < 2048:\n",
    "        \n",
    "# #         print (\"\\n!WARNING! The segment of the defined signal ({0} points) is less then the minium necessary length for a Proteus signal (2048 points)\".format(seglen_gauss))\n",
    "# #         print (\"-----------Will edit the signal automatically to reach 2048 points (~82[ns])-----------\\n\")\n",
    "        \n",
    "# #         seglen_gauss *= int(2048 / seglen_gauss)\n",
    "# #         seglen_gauss += int(2048 % seglen_gauss)\n",
    "# #         normalization_factor = seglen_gauss/seglen_gauss_old #to make the gausian from [0 to x] to [0 to 1] \n",
    "        \n",
    "# #         print(\"\\nGaussian Segement length (after correction) = {0} datapoints\".format(seglen_gauss))\n",
    "        \n",
    "# #     if n.is_integer() == False:\n",
    "        \n",
    "# #         print (\"\\n!WARNING! The segment of the defined signal ({0} points) does not comply with the format of the possible data chunk for a signal, which is datalength = ( 64 * (32 + n)), where n is an integer \".format(seglen_gauss))\n",
    "# #         print (\"-----------Will edit the signal automatically to suit the # of points-----------\\n\")\n",
    "        \n",
    "# #         n = int(n)\n",
    "# #         seglen_gauss = 64 * (32 + n)\n",
    "# #         normalization_factor = seglen_gauss/seglen_gauss_old #to make the gausian from [0 to x] to [0 to 1] \n",
    "# #         print(\"\\nGaussian Segement length (after correction) = {0} datapoints\".format(seglen_gauss))\n",
    "        \n",
    "# #     else:\n",
    "# #         normalization_factor = 1\n",
    "\n",
    "\n",
    "        \n",
    "# ############################################################\n",
    "    \n",
    "# ###########################################################\n",
    "\n",
    "#     t = np.linspace(-1, 1, seglen_gauss, endpoint=False)\n",
    "    \n",
    "#     ss = sigma_numerical / seglen_gauss\n",
    "\n",
    "#     GAUS_FC = frequency * seglen_gauss * DUC_INTERP /2 / SCLK\n",
    "    \n",
    "#     print('Gaussian frequency = {0}[Mhz]'.format(SCLK * 2 * GAUS_FC / seglen_gauss / 1e6/ DUC_INTERP))  # the actual frequency of the sin wave in the gaussian\n",
    "\n",
    "#     ####################\n",
    "#     sin = np.sin(2*np.pi*t*GAUS_FC)\n",
    "#     cos = np.cos(2*np.pi*t*GAUS_FC)\n",
    "#     gaussian = (1/ss/np.sqrt(2*np.pi)/2) * np.exp(-(t**2)/2/(ss**2)) / normalization_factor\n",
    "#     (i) = sin*gaussian\n",
    "#     (q) = cos*gaussian\n",
    "#     ####################\n",
    "    \n",
    "#     if show_plot == True:\n",
    "#         plt.plot(t, (i), '-',t, (q), '-')\n",
    "#         plt.legend(['I','Q'])\n",
    "\n",
    "\n",
    "\n",
    "    \n",
    "#     return (i), (q), seglen_gauss\n",
    "\n",
    "\n",
    "# COS DOO----------------------------------\n",
    "\n",
    "\n",
    "# Do two plots one for the chip one for the detector\n",
    "# - datapoints should be bigger\n",
    "# -remoce the title from the plot\n",
    "# - on Fig.6 make the flux arrows to look like cos law"
   ]
  },
  {
   "cell_type": "code",
   "execution_count": 12,
   "id": "97947267",
   "metadata": {},
   "outputs": [],
   "source": [
    "frequency = 10e6 ### frequency of the oscillation\n",
    "sigma = 346e-08  ### make it bigger then the period of the oscillation \n",
    "width_over_sigma = 5    # time width of the gaussian pulse, a.k.a. how many sigmas wide is the pulse, for example - width = [5*sigma], by convention"
   ]
  },
  {
   "cell_type": "code",
   "execution_count": 13,
   "id": "34993a6d",
   "metadata": {},
   "outputs": [
    {
     "name": "stdout",
     "output_type": "stream",
     "text": [
      "period = 100.0[ns]\n",
      "sigma = 3460.0[ns]\n",
      "sigma_num = 3459.9999999999995 datapoints \n",
      "5 3459.9999999999995 17299.999999999996\n",
      "Gaussian Segement length = 17299 datapoints\n",
      "\n",
      "Gaussian Segement length (in time) = 17300.0 [ns]]\n",
      "\n",
      "!WARNING! The segment of the defined signal (17299 points) does not comply with the format of the possible data chunk for a signal, which is ||| datalength = ( 64 * (32 + n)) |||, where         n is an integer.\n",
      "-----------Will edit the signal automatically to suit the # of points-----------\n",
      "\n",
      "Gaussian frequency = 10.0[Mhz]\n"
     ]
    }
   ],
   "source": [
    "gauss_signal_i, gauss_signal_q, seglen_gauss = ml.prepare_gaussian_pulse (sigma, width_over_sigma, frequency, SCLK, DUC_INTERP, max_dac, show_plot = False)\n",
    "\n",
    "gauss_signal_i = ml.digital_conv_func(gauss_signal_i, max_dac, data_type)\n",
    "gauss_signal_q = ml.digital_conv_func(gauss_signal_q, max_dac, data_type)"
   ]
  },
  {
   "cell_type": "code",
   "execution_count": 17,
   "id": "fb7df09b",
   "metadata": {},
   "outputs": [
    {
     "name": "stdout",
     "output_type": "stream",
     "text": [
      "0, no error 1 downloaded\n",
      "0, no error 2 downloaded\n",
      "0, no error 3 downloaded\n"
     ]
    }
   ],
   "source": [
    "channb = 1\n",
    "\n",
    "segnum = 1\n",
    "ml.download_signal(segnum, sin_f_seglen, channb, sin_f, sid) ### download signal to an approprate 'channel' and 'segment of the channel'\n",
    "\n",
    "segnum = 2\n",
    "ml.download_signal(segnum, sin_f_seglen, channb, sin_f, sid) #ml.download_signal(segnum,blank_seglen,channb,blank,sid) \n",
    "\n",
    "segnum = 3\n",
    "ml.download_signal(segnum,seglen_gauss,channb,gauss_signal_i,sid)"
   ]
  },
  {
   "cell_type": "code",
   "execution_count": null,
   "id": "0ccb4c50-04f6-434b-9a64-bb59ac073d10",
   "metadata": {},
   "outputs": [],
   "source": [
    "#############"
   ]
  },
  {
   "cell_type": "code",
   "execution_count": null,
   "id": "4e01a671-7bc9-45aa-8ae1-73b65bf198d0",
   "metadata": {},
   "outputs": [],
   "source": []
  },
  {
   "cell_type": "code",
   "execution_count": null,
   "id": "3414948c-c2bf-4d0f-b49c-9f768401a001",
   "metadata": {},
   "outputs": [],
   "source": [
    "##########"
   ]
  },
  {
   "cell_type": "markdown",
   "id": "a981d3bd",
   "metadata": {},
   "source": [
    "# Load task table"
   ]
  },
  {
   "cell_type": "code",
   "execution_count": null,
   "id": "32dbe6ac",
   "metadata": {},
   "outputs": [],
   "source": [
    "channb = 1\n",
    "\n",
    "tasklen = 3\n",
    "loop = 3"
   ]
  },
  {
   "cell_type": "code",
   "execution_count": null,
   "id": "c52f35a9-a2db-407c-b1ac-eb68f744ccb3",
   "metadata": {},
   "outputs": [],
   "source": [
    "################################### "
   ]
  },
  {
   "cell_type": "markdown",
   "id": "f7785062-0876-4ed4-8f25-ce6492fee189",
   "metadata": {},
   "source": [
    "# Tasks definitions"
   ]
  },
  {
   "cell_type": "code",
   "execution_count": 20,
   "id": "027ca80a-07a0-48ca-a078-e846070be4db",
   "metadata": {},
   "outputs": [
    {
     "name": "stdout",
     "output_type": "stream",
     "text": [
      "Downloading Task table to channel 1\n",
      "\n"
     ]
    }
   ],
   "source": [
    "tasklen = 1\n",
    "\n",
    "#Select channel\n",
    "cmd = ':INST:CHAN 1'\n",
    "inst.send_scpi_cmd(cmd )\n",
    "\n",
    "cmd = ':TASK:COMP:LENG {0}'.format(tasklen)\n",
    "inst.send_scpi_cmd(cmd )\n",
    "\n",
    "\n",
    "\n",
    "for i in range(tasklen):\n",
    "    curr_task = i+1\n",
    "    cmd = ':TASK:COMP:SEL {0}'.format(curr_task)\n",
    "    inst.send_scpi_cmd(cmd)\n",
    "    cmd = ':TASK:COMP:DTRigger ON'\n",
    "    inst.send_scpi_cmd(cmd)\n",
    " \n",
    "    if curr_task == 1:  \n",
    "        cmd = ':TASK:COMP:ENAB CPU'\n",
    "        \n",
    "    if curr_task==tasklen:\n",
    "        cmd = ':TASK:COMP:NEXT1 {0}'.format(1)\n",
    "        inst.send_scpi_cmd(cmd)\n",
    "    else:\n",
    "        cmd = ':TASK:COMP:NEXT1 {0}'.format(curr_task+1)\n",
    "        inst.send_scpi_cmd(cmd )    \n",
    "\n",
    "    cmd = ':TASK:COMP:TYPE SING'\n",
    "    inst.send_scpi_cmd(cmd )\n",
    "\n",
    "    cmd = ':TASK:COMP:LOOP {0}'.format(1)\n",
    "    inst.send_scpi_cmd(cmd )\n",
    "\n",
    "    cmd = ':TASK:COMP:SEGM {0}'.format(1)\n",
    "    inst.send_scpi_cmd(cmd )\n",
    "\n",
    "    \n",
    "cmd = ':TASK:COMP:WRIT'\n",
    "inst.send_scpi_cmd(cmd)\n",
    "print('Downloading Task table to channel {0}'.format(1))\n",
    "\n",
    "cmd = ':INST:CHAN {0}'.format(1)\n",
    "inst.send_scpi_cmd(cmd)\n",
    "    \n",
    "cmd = ':OUTP ON'\n",
    "inst.send_scpi_cmd(cmd)\n",
    "\n",
    "cmd = 'FUNC:MODE TASK'\n",
    "inst.send_scpi_cmd(cmd)\n",
    "\n",
    "\n",
    "resp = inst.send_scpi_query(':SYST:ERR?')\n",
    "print(resp)\n"
   ]
  },
  {
   "cell_type": "code",
   "execution_count": null,
   "id": "59aef630-f2c2-4373-a64f-924124328bf8",
   "metadata": {},
   "outputs": [
    {
     "name": "stdout",
     "output_type": "stream",
     "text": [
      "1 ===== :TASK:COMP:SELect 1\n",
      "1 ===== :TASK:COMP:NEXT1 1 final\n",
      "Downloading Task table of channel 1\n",
      "0, no error\n",
      "1 ===== :TASK:COMP:SELect 1\n",
      "1 ===== :TASK:COMP:NEXT1 1 final\n",
      "Downloading Task table of channel 2\n",
      "0, no error\n",
      "1 ===== :TASK:COMP:SELect 1\n",
      "1 ===== :TASK:COMP:NEXT1 1 final\n",
      "Downloading Task table of channel 3\n",
      "0, no error\n",
      "1 ===== :TASK:COMP:SELect 1\n",
      "1 ===== :TASK:COMP:NEXT1 1 final\n",
      "Downloading Task table of channel 4\n",
      "0, no error\n"
     ]
    }
   ],
   "source": [
    "# tasklen = 1\n",
    "\n",
    "# admin = TepAdmin()  ### decalring a shortcut to send SCPY commands to the machine\n",
    "# inst = admin.open_instrument(slot_id=sid)  ### decalring a shortcut to send SCPY commands to the machine\n",
    "# num_channels = 1\n",
    "\n",
    "# for ii in range(num_channels):\n",
    "#     channb=ii+1\n",
    "\n",
    "#     #Select channel\n",
    "#     cmd = ':INST:CHAN {0}'.format(channb)\n",
    "#     inst.send_scpi_cmd(cmd )\n",
    "\n",
    "#     #define the length of the task table\n",
    "#     cmd = ':TASK:COMP:LENG {0}'.format(tasklen)\n",
    "#     inst.send_scpi_cmd(cmd )\n",
    "\n",
    "#     for jj in range(tasklen):\n",
    "#         curr_task = jj+1\n",
    "#         loop = jj+1\n",
    "#         segnb = jj+1\n",
    "#         # let us select the first task on the task table\n",
    "#         cmd = ':TASK:COMP:SELect {0}'.format(curr_task)\n",
    "#         inst.send_scpi_cmd(cmd)\n",
    "#         print(curr_task,'=====',cmd)\n",
    "\n",
    "#         # it will be a single type of task (it would do but 1 thing, not a sequence of things)\n",
    "#         cmd = ':TASK:COMP:TYPE SING'\n",
    "#         inst.send_scpi_cmd(cmd)\n",
    "\n",
    "#         # lets choose how mamy times this task will repeat itself before terminating (how many times it would loop)\n",
    "#         cmd = ':TASK:COMP:LOOP {0}'.format(loop)\n",
    "#         inst.send_scpi_cmd(cmd)\n",
    "\n",
    "#         # Choose now the segment from the memory to assign for this task\n",
    "#         cmd = ':TASK:COMP:SEGM {0}'.format(segnb)\n",
    "#         inst.send_scpi_cmd(cmd)\n",
    "\n",
    "#         # Here we loop the task sequance again and again until forever\n",
    "#         if curr_task==tasklen:\n",
    "#             cmd = ':TASK:COMP:NEXT1 {0}'.format(1)\n",
    "#             inst.send_scpi_cmd(cmd)\n",
    "#             print(curr_task,'=====',cmd,\"final\")\n",
    "#         else:\n",
    "#             cmd = ':TASK:COMP:NEXT1 {0}'.format(curr_task+1)\n",
    "#             inst.send_scpi_cmd(cmd)\n",
    "#             print(curr_task,'=====',cmd)\n",
    "\n",
    "\n",
    "#     cmd = ':TASK:COMP:WRIT'\n",
    "#     inst.send_scpi_cmd(cmd)\n",
    "#     print('Downloading Task table of channel {0}'.format(channb))\n",
    "\n",
    "#     resp = inst.send_scpi_query(':SYST:ERR?')\n",
    "#     print(resp)\n"
   ]
  },
  {
   "cell_type": "markdown",
   "id": "a8948dad-8e4a-453b-b945-57884ad99a1a",
   "metadata": {},
   "source": [
    "# Switch to task mode"
   ]
  },
  {
   "cell_type": "code",
   "execution_count": null,
   "id": "3a423312-55d9-477d-b139-0b237923c9c4",
   "metadata": {},
   "outputs": [
    {
     "name": "stdout",
     "output_type": "stream",
     "text": [
      "0, no error\n",
      "0, no error\n",
      "0, no error\n",
      "0, no error\n"
     ]
    }
   ],
   "source": [
    "\n",
    "# for ii in range(num_channels):\n",
    "\n",
    "#     channb=ii+1\n",
    "\n",
    "\n",
    "#     cmd = ':INST:CHAN {0}'.format(channb)\n",
    "#     inst.send_scpi_cmd(cmd)\n",
    "\n",
    "#     cmd = ':OUTP ON'\n",
    "#     inst.send_scpi_cmd(cmd)\n",
    "\n",
    "#     cmd = 'FUNC:MODE TASK'\n",
    "#     inst.send_scpi_cmd(cmd)\n",
    "\n",
    "#     resp = inst.send_scpi_query(':SYST:ERR?')\n",
    "#     print(resp)\n",
    "\n",
    "\n",
    "# if dac_mode==16:\n",
    "\n",
    "#     for jj in range(2):\n",
    "\n",
    "#         mrk = jj+1\n",
    "\n",
    "#         cmd = ':MARK:SEL {0}'.format(mrk)  # why do we need marks?\n",
    "#         inst.send_scpi_cmd(cmd)\n",
    "\n",
    "#         cmd = ':MARK ON'\n",
    "#         inst.send_scpi_cmd(cmd)\n",
    "\n",
    "# elif dac_mode==8:\n",
    "\n",
    "#     for jj in range(4):\n",
    "\n",
    "#         mrk = jj+1\n",
    "\n",
    "#         cmd = ':MARK:SEL {0}'.format(mrk)\n",
    "#         inst.send_scpi_cmd(cmd)\n",
    "\n",
    "#         cmd = ':MARK ON'\n",
    "#         inst.send_scpi_cmd(cmd)   \n",
    "            \n",
    "        "
   ]
  },
  {
   "cell_type": "code",
   "execution_count": null,
   "id": "8ebadb0c-218c-4c31-9102-fe83f42609f6",
   "metadata": {},
   "outputs": [],
   "source": [
    "###################################"
   ]
  },
  {
   "cell_type": "markdown",
   "id": "b5db7fca",
   "metadata": {},
   "source": [
    "# FIX THE READOUT"
   ]
  },
  {
   "cell_type": "code",
   "execution_count": null,
   "id": "682c813e",
   "metadata": {},
   "outputs": [
    {
     "name": "stdout",
     "output_type": "stream",
     "text": [
      "1.0\n",
      "1 ===== :TASK:COMP:SELect 1\n",
      "1 ===== :TASK:COMP:NEXT1 1 final\n",
      "Downloading Task table of channel 4\n",
      "0, no error\n"
     ]
    }
   ],
   "source": [
    "# admin = TepAdmin()   \n",
    "# inst = admin.open_instrument(slot_id=sid)\n",
    "\n",
    "# #Select channel\n",
    "# cmd = ':INST:CHAN {0}'.format(channb)\n",
    "# inst.send_scpi_cmd(cmd )\n",
    "\n",
    "# #define the length of the task table\n",
    "# cmd = ':TASK:COMP:LENG {0}'.format(tasklen)\n",
    "# inst.send_scpi_cmd(cmd )\n",
    "    \n",
    "# ######Set the delay in the channel in [seconds]\n",
    "# delay_time=4e-9\n",
    "\n",
    "# #__________________________________The Black box computation\n",
    "# delay_samples=SCLK*delay_time\n",
    "# custom_loops= delay_samples/10 # we will loop a segment of 100 samples a \"custom_loops\" number of times\n",
    "# #delay_samples_integer=delay_samples//65536\n",
    "# #delay_samples_remnant=delay_samples%65536\n",
    "# print(custom_loops)\n",
    "# #__________________________________\n",
    "# ######\n",
    "    \n",
    "# for jj in range(tasklen):\n",
    "#     curr_task = jj+1\n",
    "#     #loop = jj+1\n",
    "#     segnb = jj+1\n",
    "#     # let us select the first task on the task table\n",
    "#     cmd = ':TASK:COMP:SEL {0}'.format(curr_task)\n",
    "#     inst.send_scpi_cmd(cmd)\n",
    "\n",
    "#     # it will be a single type of task (it would do ust 1 thing not a sequence of things)\n",
    "#     cmd = ':TASK:COMP:TYPE SING'\n",
    "#     inst.send_scpi_cmd(cmd)\n",
    "\n",
    "#     # lets choose how mamy times this task will repeat itself before terminating (how many times it would loop)\n",
    "#     cmd = ':TASK:COMP:LOOP {0}'.format(loop)\n",
    "#     inst.send_scpi_cmd(cmd)\n",
    "\n",
    "#     # Choose now the segment from the memory to assign for this task\n",
    "#     cmd = ':TASK:COMP:SEGM {0}'.format(segnb)\n",
    "#     inst.send_scpi_cmd(cmd)\n",
    "\n",
    "#     # Here we loop the task sequance again and again until forever\n",
    "#     if curr_task==2:\n",
    "#  #       cmd = \":TASK:COMP:DEL 50000\"\n",
    "#         cmd = \":TASK:COMP:LOOP {0}\".format(custom_loops) \n",
    "#         inst.send_scpi_cmd(cmd)\n",
    "#  #       inst.send_scpi_cmd(cmd)\n",
    "#     if curr_task==tasklen:\n",
    "#         cmd = ':TASK:COMP:NEXT1 {0}'.format(1)\n",
    "#         inst.send_scpi_cmd(cmd)\n",
    "#     else:\n",
    "#         cmd = ':TASK:COMP:NEXT1 {0}'.format(curr_task+1)\n",
    "#         inst.send_scpi_cmd(cmd)\n",
    "\n",
    "\n",
    "# cmd = ':TASK:COMP:WRIT'\n",
    "# inst.send_scpi_cmd(cmd )\n",
    "# print('Downloading Task table of channel {0}'.format(channb))\n",
    "\n",
    "# resp = inst.send_scpi_query(':SYST:ERR?')\n",
    "# print(resp)"
   ]
  },
  {
   "cell_type": "markdown",
   "id": "f144e113",
   "metadata": {},
   "source": [
    "# Shut down"
   ]
  },
  {
   "cell_type": "code",
   "execution_count": 21,
   "id": "09a82947",
   "metadata": {},
   "outputs": [
    {
     "ename": "OSError",
     "evalue": "exception: access violation writing 0xFFFFFFFFFFFFFFFF",
     "output_type": "error",
     "traceback": [
      "\u001b[1;31m---------------------------------------------------------------------------\u001b[0m",
      "\u001b[1;31mOSError\u001b[0m                                   Traceback (most recent call last)",
      "Input \u001b[1;32mIn [21]\u001b[0m, in \u001b[0;36m<cell line: 2>\u001b[1;34m()\u001b[0m\n\u001b[0;32m      1\u001b[0m \u001b[38;5;66;03m# Disconnect\u001b[39;00m\n\u001b[1;32m----> 2\u001b[0m \u001b[43minst\u001b[49m\u001b[38;5;241;43m.\u001b[39;49m\u001b[43mclose_instrument\u001b[49m\u001b[43m(\u001b[49m\u001b[43m)\u001b[49m\n\u001b[0;32m      3\u001b[0m admin\u001b[38;5;241m.\u001b[39mclose_inst_admin()\n",
      "File \u001b[1;32m~\\Desktop\\Proteus_homebrew\\SourceFiles\\teproteus.py:761\u001b[0m, in \u001b[0;36mTEProteusInst.close_instrument\u001b[1;34m(self)\u001b[0m\n\u001b[0;32m    758\u001b[0m \u001b[38;5;124;03m'''Closes this instrument.'''\u001b[39;00m\n\u001b[0;32m    759\u001b[0m \u001b[38;5;28;01mif\u001b[39;00m \u001b[38;5;28mself\u001b[39m\u001b[38;5;241m.\u001b[39m_admin \u001b[38;5;129;01mis\u001b[39;00m \u001b[38;5;129;01mnot\u001b[39;00m \u001b[38;5;28;01mNone\u001b[39;00m:\n\u001b[0;32m    760\u001b[0m     \u001b[38;5;66;03m# pylint: disable=protected-access\u001b[39;00m\n\u001b[1;32m--> 761\u001b[0m     \u001b[38;5;28;43mself\u001b[39;49m\u001b[38;5;241;43m.\u001b[39;49m\u001b[43m_admin\u001b[49m\u001b[38;5;241;43m.\u001b[39;49m\u001b[43m_tep_close_comm_intf\u001b[49m\u001b[43m(\u001b[49m\u001b[38;5;28;43mself\u001b[39;49m\u001b[38;5;241;43m.\u001b[39;49m\u001b[43m_instptr\u001b[49m\u001b[43m,\u001b[49m\u001b[43m \u001b[49m\u001b[38;5;28;43mself\u001b[39;49m\u001b[38;5;241;43m.\u001b[39;49m\u001b[43m_commptr\u001b[49m\u001b[43m)\u001b[49m\n\u001b[0;32m    762\u001b[0m     \u001b[38;5;28mself\u001b[39m\u001b[38;5;241m.\u001b[39m_admin\u001b[38;5;241m.\u001b[39m_inst_dict\u001b[38;5;241m.\u001b[39mpop(\u001b[38;5;28mself\u001b[39m\u001b[38;5;241m.\u001b[39m_instr_id, \u001b[38;5;28;01mNone\u001b[39;00m)\n\u001b[0;32m    763\u001b[0m     \u001b[38;5;28mself\u001b[39m\u001b[38;5;241m.\u001b[39m_admin\u001b[38;5;241m.\u001b[39m_tep_close_instrument(\u001b[38;5;28mself\u001b[39m\u001b[38;5;241m.\u001b[39m_instptr)\n",
      "\u001b[1;31mOSError\u001b[0m: exception: access violation writing 0xFFFFFFFFFFFFFFFF"
     ]
    }
   ],
   "source": [
    "# Disconnect\n",
    "inst.close_instrument()\n",
    "admin.close_inst_admin()"
   ]
  },
  {
   "cell_type": "code",
   "execution_count": null,
   "id": "645ce35b",
   "metadata": {},
   "outputs": [],
   "source": []
  }
 ],
 "metadata": {
  "kernelspec": {
   "display_name": "Python 3 (ipykernel)",
   "language": "python",
   "name": "python3"
  },
  "language_info": {
   "codemirror_mode": {
    "name": "ipython",
    "version": 3
   },
   "file_extension": ".py",
   "mimetype": "text/x-python",
   "name": "python",
   "nbconvert_exporter": "python",
   "pygments_lexer": "ipython3",
   "version": "3.8.13"
  }
 },
 "nbformat": 4,
 "nbformat_minor": 5
}
